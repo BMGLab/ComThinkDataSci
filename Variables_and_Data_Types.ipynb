{
 "cells": [
  {
   "cell_type": "markdown",
   "id": "9504ec7e",
   "metadata": {},
   "source": [
    "# Variables and Data Types\n",
    "\n",
    "## Practice Exercises\n"
   ]
  },
  {
   "cell_type": "markdown",
   "id": "e94abf38",
   "metadata": {},
   "source": [
    "### Define and print a variable"
   ]
  },
  {
   "cell_type": "code",
   "execution_count": null,
   "id": "f362f6b1",
   "metadata": {},
   "outputs": [],
   "source": [
    "x = \"Python\"\n",
    "y = 3.14\n",
    "print(x, y)"
   ]
  },
  {
   "cell_type": "markdown",
   "id": "88ab8ed1",
   "metadata": {},
   "source": [
    "### Convert a string to an integer"
   ]
  },
  {
   "cell_type": "code",
   "execution_count": null,
   "id": "027f74b8",
   "metadata": {},
   "outputs": [],
   "source": [
    "num = int(\"42\")\n",
    "print(num, type(num))"
   ]
  },
  {
   "cell_type": "markdown",
   "id": "96dc592d",
   "metadata": {},
   "source": [
    "### Find the length of a string"
   ]
  },
  {
   "cell_type": "code",
   "execution_count": null,
   "id": "6810a016",
   "metadata": {},
   "outputs": [],
   "source": [
    "text = \"Programming\"\n",
    "print(len(text))\n",
    "print(\"Length:\", len(\"Hello World\"))"
   ]
  },
  {
   "cell_type": "markdown",
   "id": "1389e1e7",
   "metadata": {},
   "source": [
    "### Concatenate strings"
   ]
  },
  {
   "cell_type": "code",
   "execution_count": null,
   "id": "8331d916",
   "metadata": {},
   "outputs": [],
   "source": [
    "a = \"Hello\"\n",
    "b = \"World\"\n",
    "print(a + \" \" + b)"
   ]
  },
  {
   "cell_type": "markdown",
   "id": "df578be9",
   "metadata": {},
   "source": [
    "### Check data types"
   ]
  },
  {
   "cell_type": "code",
   "execution_count": null,
   "id": "7bc76a24",
   "metadata": {},
   "outputs": [],
   "source": [
    "var1 = 10\n",
    "var2 = 5.5\n",
    "var3 = \"Python\"\n",
    "print(type(var1), type(var2), type(var3))"
   ]
  }
 ],
 "metadata": {},
 "nbformat": 4,
 "nbformat_minor": 5
}
