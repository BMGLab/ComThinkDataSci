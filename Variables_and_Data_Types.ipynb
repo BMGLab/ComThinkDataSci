{
 "cells": [
  {
   "cell_type": "markdown",
   "id": "d4485f6a",
   "metadata": {},
   "source": [
    "# Variables and Data Types\n",
    "\n",
    "## Practice Exercises\n"
   ]
  },
  {
   "cell_type": "markdown",
   "id": "5032bef5",
   "metadata": {},
   "source": [
    "### Define and print a variable"
   ]
  },
  {
   "cell_type": "code",
   "execution_count": null,
   "id": "24cd4dfb",
   "metadata": {},
   "outputs": [],
   "source": [
    "x = \"Python\"\n",
    "print(x)"
   ]
  },
  {
   "cell_type": "markdown",
   "id": "c96db24a",
   "metadata": {},
   "source": [
    "### Convert a string to an integer"
   ]
  },
  {
   "cell_type": "code",
   "execution_count": null,
   "id": "fc9c2426",
   "metadata": {},
   "outputs": [],
   "source": [
    "num = int(\"42\")\n",
    "print(num)"
   ]
  },
  {
   "cell_type": "markdown",
   "id": "4062c7e2",
   "metadata": {},
   "source": [
    "### Find the length of a string"
   ]
  },
  {
   "cell_type": "code",
   "execution_count": null,
   "id": "0a8ced41",
   "metadata": {},
   "outputs": [],
   "source": [
    "text = \"Programming\"\n",
    "print(len(text))"
   ]
  }
 ],
 "metadata": {},
 "nbformat": 4,
 "nbformat_minor": 5
}
