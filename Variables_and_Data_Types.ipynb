{
 "cells": [
  {
   "cell_type": "markdown",
   "id": "9504ec7e",
   "metadata": {},
   "source": [
    "# Variables and Data Types\n",
    "\n",
    "## Practice Exercises\n"
   ]
  },
  {
   "attachments": {},
   "cell_type": "markdown",
   "id": "fc8e5ea5",
   "metadata": {},
   "source": [
    "VARIABLE RULES: \n",
    "\n",
    "1. Variable  names should not start with numbers. "
   ]
  },
  {
   "cell_type": "code",
   "execution_count": 3,
   "id": "58da1a8d",
   "metadata": {},
   "outputs": [
    {
     "ename": "SyntaxError",
     "evalue": "invalid decimal literal (3607159115.py, line 1)",
     "output_type": "error",
     "traceback": [
      "\u001b[0;36m  Cell \u001b[0;32mIn[3], line 1\u001b[0;36m\u001b[0m\n\u001b[0;31m    3_kg_apple = “10 $”\u001b[0m\n\u001b[0m     ^\u001b[0m\n\u001b[0;31mSyntaxError\u001b[0m\u001b[0;31m:\u001b[0m invalid decimal literal\n"
     ]
    }
   ],
   "source": [
    "3_kg_apple = “10 $”"
   ]
  },
  {
   "cell_type": "code",
   "execution_count": 10,
   "id": "4dab8b35",
   "metadata": {},
   "outputs": [
    {
     "name": "stdout",
     "output_type": "stream",
     "text": [
      "10 $\n"
     ]
    }
   ],
   "source": [
    "kg_apple_3 = \"10 $\"\n",
    "print(kg_apple_3)"
   ]
  },
  {
   "attachments": {},
   "cell_type": "markdown",
   "id": "eef8023e",
   "metadata": {},
   "source": [
    "2. Variable names should not contain special symbols (except _ underscore) "
   ]
  },
  {
   "cell_type": "code",
   "execution_count": 9,
   "id": "b16f34f3",
   "metadata": {},
   "outputs": [
    {
     "ename": "SyntaxError",
     "evalue": "invalid syntax (2473153206.py, line 1)",
     "output_type": "error",
     "traceback": [
      "\u001b[0;36m  Cell \u001b[0;32mIn[9], line 1\u001b[0;36m\u001b[0m\n\u001b[0;31m    income? =  \"500 TL\"\u001b[0m\n\u001b[0m          ^\u001b[0m\n\u001b[0;31mSyntaxError\u001b[0m\u001b[0;31m:\u001b[0m invalid syntax\n"
     ]
    }
   ],
   "source": [
    "income? =  \"500 TL\""
   ]
  },
  {
   "attachments": {},
   "cell_type": "markdown",
   "id": "c0c6ae0b",
   "metadata": {},
   "source": [
    "3. There are no spaces in variable names.  "
   ]
  },
  {
   "cell_type": "code",
   "execution_count": 8,
   "id": "a38198b3",
   "metadata": {},
   "outputs": [],
   "source": [
    "username = \"admin\"\n",
    "kulllanici_adi = \"admin\""
   ]
  },
  {
   "attachments": {},
   "cell_type": "markdown",
   "id": "cde98ba3",
   "metadata": {},
   "source": [
    "Note: We can use Turkish characters in variable names. However, in case of compatibility problems, try to avoid this. "
   ]
  },
  {
   "attachments": {},
   "cell_type": "markdown",
   "id": "34790d2b",
   "metadata": {},
   "source": [
    "4. Some words with special meanings are not used in variable names. "
   ]
  },
  {
   "cell_type": "code",
   "execution_count": 11,
   "id": "7ae64096",
   "metadata": {},
   "outputs": [
    {
     "ename": "SyntaxError",
     "evalue": "cannot assign to True (1358131660.py, line 1)",
     "output_type": "error",
     "traceback": [
      "\u001b[0;36m  Cell \u001b[0;32mIn[11], line 1\u001b[0;36m\u001b[0m\n\u001b[0;31m    True=5\u001b[0m\n\u001b[0m    ^\u001b[0m\n\u001b[0;31mSyntaxError\u001b[0m\u001b[0;31m:\u001b[0m cannot assign to True\n"
     ]
    }
   ],
   "source": [
    "True=5 "
   ]
  },
  {
   "cell_type": "code",
   "execution_count": 12,
   "id": "1a525e16",
   "metadata": {},
   "outputs": [],
   "source": [
    "true=5 #here is no error due to case sensitivity. "
   ]
  },
  {
   "cell_type": "code",
   "execution_count": 14,
   "id": "ec32232e",
   "metadata": {},
   "outputs": [
    {
     "ename": "SyntaxError",
     "evalue": "invalid syntax (3730076805.py, line 1)",
     "output_type": "error",
     "traceback": [
      "\u001b[0;36m  Cell \u001b[0;32mIn[14], line 1\u001b[0;36m\u001b[0m\n\u001b[0;31m    and=8\u001b[0m\n\u001b[0m    ^\u001b[0m\n\u001b[0;31mSyntaxError\u001b[0m\u001b[0;31m:\u001b[0m invalid syntax\n"
     ]
    }
   ],
   "source": [
    "and=8"
   ]
  },
  {
   "cell_type": "code",
   "execution_count": 15,
   "id": "875cba56",
   "metadata": {},
   "outputs": [],
   "source": [
    "And=8 #here is no error due to case sensitivity. "
   ]
  },
  {
   "cell_type": "code",
   "execution_count": 17,
   "id": "bdd1b9d1",
   "metadata": {},
   "outputs": [
    {
     "data": {
      "text/plain": [
       "['False',\n",
       " 'None',\n",
       " 'True',\n",
       " 'and',\n",
       " 'as',\n",
       " 'assert',\n",
       " 'async',\n",
       " 'await',\n",
       " 'break',\n",
       " 'class',\n",
       " 'continue',\n",
       " 'def',\n",
       " 'del',\n",
       " 'elif',\n",
       " 'else',\n",
       " 'except',\n",
       " 'finally',\n",
       " 'for',\n",
       " 'from',\n",
       " 'global',\n",
       " 'if',\n",
       " 'import',\n",
       " 'in',\n",
       " 'is',\n",
       " 'lambda',\n",
       " 'nonlocal',\n",
       " 'not',\n",
       " 'or',\n",
       " 'pass',\n",
       " 'raise',\n",
       " 'return',\n",
       " 'try',\n",
       " 'while',\n",
       " 'with',\n",
       " 'yield']"
      ]
     },
     "execution_count": 17,
     "metadata": {},
     "output_type": "execute_result"
    }
   ],
   "source": [
    "#Note: Write the following codes to see words with special meanings in Python. \n",
    "import keyword\n",
    "keyword.kwlist"
   ]
  },
  {
   "cell_type": "markdown",
   "id": "e94abf38",
   "metadata": {},
   "source": [
    "### Define and print a variable"
   ]
  },
  {
   "cell_type": "code",
   "execution_count": null,
   "id": "f362f6b1",
   "metadata": {},
   "outputs": [],
   "source": [
    "x = \"Python\"\n",
    "y = 3.14\n",
    "print(x, y)"
   ]
  },
  {
   "cell_type": "markdown",
   "id": "88ab8ed1",
   "metadata": {},
   "source": [
    "### Convert a string to an integer"
   ]
  },
  {
   "cell_type": "code",
   "execution_count": null,
   "id": "027f74b8",
   "metadata": {},
   "outputs": [],
   "source": [
    "num = int(\"42\")\n",
    "print(num, type(num))"
   ]
  },
  {
   "cell_type": "markdown",
   "id": "96dc592d",
   "metadata": {},
   "source": [
    "### Find the length of a string"
   ]
  },
  {
   "cell_type": "code",
   "execution_count": null,
   "id": "6810a016",
   "metadata": {},
   "outputs": [],
   "source": [
    "text = \"Programming\"\n",
    "print(len(text))\n",
    "print(\"Length:\", len(\"Hello World\"))"
   ]
  },
  {
   "cell_type": "markdown",
   "id": "1389e1e7",
   "metadata": {},
   "source": [
    "### Concatenate strings"
   ]
  },
  {
   "cell_type": "code",
   "execution_count": null,
   "id": "8331d916",
   "metadata": {},
   "outputs": [],
   "source": [
    "a = \"Hello\"\n",
    "b = \"World\"\n",
    "print(a + \" \" + b)"
   ]
  },
  {
   "cell_type": "markdown",
   "id": "df578be9",
   "metadata": {},
   "source": [
    "### Check data types"
   ]
  },
  {
   "cell_type": "code",
   "execution_count": null,
   "id": "7bc76a24",
   "metadata": {},
   "outputs": [],
   "source": [
    "var1 = 10\n",
    "var2 = 5.5\n",
    "var3 = \"Python\"\n",
    "print(type(var1), type(var2), type(var3))"
   ]
  },
  {
   "attachments": {},
   "cell_type": "markdown",
   "id": "05f7da5e",
   "metadata": {},
   "source": [
    "We can assign two or more variables to a value. "
   ]
  },
  {
   "cell_type": "code",
   "execution_count": 19,
   "id": "3f7a52ef",
   "metadata": {},
   "outputs": [
    {
     "name": "stdout",
     "output_type": "stream",
     "text": [
      "20\n"
     ]
    }
   ],
   "source": [
    "a=b=c=4 #4*4+4\n",
    "print(a*b+c) "
   ]
  },
  {
   "attachments": {},
   "cell_type": "markdown",
   "id": "5fe89cc3",
   "metadata": {},
   "source": [
    "We can assign different values to a variable many times. The last value is valid. \n"
   ]
  },
  {
   "cell_type": "code",
   "execution_count": 20,
   "id": "249c9a2c",
   "metadata": {},
   "outputs": [
    {
     "name": "stdout",
     "output_type": "stream",
     "text": [
      "35\n"
     ]
    }
   ],
   "source": [
    "x = 10\n",
    "x = 20\n",
    "x = 30 \n",
    "print(x+5) #30+5\n"
   ]
  },
  {
   "attachments": {},
   "cell_type": "markdown",
   "id": "ada80d2b",
   "metadata": {},
   "source": [
    "Multiple assignment process \n"
   ]
  },
  {
   "cell_type": "code",
   "execution_count": 22,
   "id": "f8483b5a",
   "metadata": {},
   "outputs": [
    {
     "name": "stdout",
     "output_type": "stream",
     "text": [
      "10\n"
     ]
    }
   ],
   "source": [
    "x, y, z = 4,3,2\n",
    "print(x*y-z) #4*3-2 \n"
   ]
  },
  {
   "attachments": {},
   "cell_type": "markdown",
   "id": "c7901a4d",
   "metadata": {},
   "source": [
    "Variable Swap \n"
   ]
  },
  {
   "cell_type": "code",
   "execution_count": 23,
   "id": "0c55944e",
   "metadata": {},
   "outputs": [
    {
     "name": "stdout",
     "output_type": "stream",
     "text": [
      "48\n"
     ]
    }
   ],
   "source": [
    "x,y,z=4,3,2\n",
    "x,y,z=y,z,x #x is now y, y is now z, z is now x.\n",
    "print(z**y*x) #4**2*3"
   ]
  },
  {
   "attachments": {},
   "cell_type": "markdown",
   "id": "4202432d",
   "metadata": {},
   "source": [
    "To cancel a variable, we can close and open the command window or use the del command. \n"
   ]
  },
  {
   "cell_type": "code",
   "execution_count": null,
   "id": "c7aa9a20",
   "metadata": {},
   "outputs": [],
   "source": [
    "a=2\n",
    "print(a)"
   ]
  },
  {
   "cell_type": "code",
   "execution_count": 24,
   "id": "04ddbc44",
   "metadata": {},
   "outputs": [
    {
     "ename": "NameError",
     "evalue": "name 'a' is not defined",
     "output_type": "error",
     "traceback": [
      "\u001b[0;31m---------------------------------------------------------------------------\u001b[0m",
      "\u001b[0;31mNameError\u001b[0m                                 Traceback (most recent call last)",
      "Cell \u001b[0;32mIn[24], line 3\u001b[0m\n\u001b[1;32m      1\u001b[0m \u001b[39mdel\u001b[39;00m a\n\u001b[1;32m      2\u001b[0m \u001b[39m#The variable a no longer exists, so it has been cancelled. \u001b[39;00m\n\u001b[0;32m----> 3\u001b[0m \u001b[39mprint\u001b[39m(a) \u001b[39m#The code will now throw an error because we have canceled the a variable. \u001b[39;00m\n",
      "\u001b[0;31mNameError\u001b[0m: name 'a' is not defined"
     ]
    }
   ],
   "source": [
    "del a\n",
    "#The variable a no longer exists, so it has been cancelled. \n",
    "print(a) #The code will now throw an error because we have canceled the a variable. "
   ]
  },
  {
   "attachments": {},
   "cell_type": "markdown",
   "id": "d44680e0",
   "metadata": {},
   "source": [
    "#DATA TYPES:"
   ]
  },
  {
   "attachments": {},
   "cell_type": "markdown",
   "id": "c04afe2f",
   "metadata": {},
   "source": [
    "string: Any sequence of characters within quotes. "
   ]
  },
  {
   "cell_type": "code",
   "execution_count": 25,
   "id": "29d93262",
   "metadata": {},
   "outputs": [
    {
     "name": "stdout",
     "output_type": "stream",
     "text": [
      "Hello World\n"
     ]
    }
   ],
   "source": [
    "print(\"Hello World\" )"
   ]
  },
  {
   "attachments": {},
   "cell_type": "markdown",
   "id": "788a0967",
   "metadata": {},
   "source": [
    "Note: It is not necessary to use double quotes in strings. We can also use single or triple quotes. \n"
   ]
  },
  {
   "cell_type": "code",
   "execution_count": 27,
   "id": "cd0d6bcb",
   "metadata": {},
   "outputs": [
    {
     "data": {
      "text/plain": [
       "'Hello World'"
      ]
     },
     "execution_count": 27,
     "metadata": {},
     "output_type": "execute_result"
    }
   ],
   "source": [
    "'Hello World' #single quote "
   ]
  },
  {
   "cell_type": "code",
   "execution_count": 28,
   "id": "9cb778a6",
   "metadata": {},
   "outputs": [
    {
     "data": {
      "text/plain": [
       "'Hello World'"
      ]
     },
     "execution_count": 28,
     "metadata": {},
     "output_type": "execute_result"
    }
   ],
   "source": [
    "'''Hello World''' #three single quotes"
   ]
  },
  {
   "cell_type": "code",
   "execution_count": 29,
   "id": "c4b38b3d",
   "metadata": {},
   "outputs": [
    {
     "data": {
      "text/plain": [
       "'Hello World'"
      ]
     },
     "execution_count": 29,
     "metadata": {},
     "output_type": "execute_result"
    }
   ],
   "source": [
    "\"\"\"Hello World\"\"\" #three double quotes "
   ]
  },
  {
   "cell_type": "code",
   "execution_count": 30,
   "id": "a8eab796",
   "metadata": {},
   "outputs": [
    {
     "data": {
      "text/plain": [
       "'Computer \\nScience \\nLesson'"
      ]
     },
     "execution_count": 30,
     "metadata": {},
     "output_type": "execute_result"
    }
   ],
   "source": [
    "#we use triple quotes in Python is to be able to go to the next line. \n",
    "'''Computer \n",
    "Science \n",
    "Lesson''' "
   ]
  },
  {
   "attachments": {},
   "cell_type": "markdown",
   "id": "9326b2a1",
   "metadata": {},
   "source": [
    "So, why do we sometimes need to use single or double quotes? For example, let's say we want to get an \n",
    "output like this. The provinces of Istanbul \n",
    "There is an apostrophe in this expression. We cannot enclose a string with an apostrophe in single \n",
    "quotes. So we must use the alternative, double or triple quotes. "
   ]
  },
  {
   "cell_type": "code",
   "execution_count": 32,
   "id": "ac246c96",
   "metadata": {},
   "outputs": [
    {
     "ename": "SyntaxError",
     "evalue": "unterminated string literal (detected at line 1) (660847692.py, line 1)",
     "output_type": "error",
     "traceback": [
      "\u001b[0;36m  Cell \u001b[0;32mIn[32], line 1\u001b[0;36m\u001b[0m\n\u001b[0;31m    'New York's Provinces'\u001b[0m\n\u001b[0m                         ^\u001b[0m\n\u001b[0;31mSyntaxError\u001b[0m\u001b[0;31m:\u001b[0m unterminated string literal (detected at line 1)\n"
     ]
    }
   ],
   "source": [
    "'New York's Provinces'"
   ]
  },
  {
   "cell_type": "code",
   "execution_count": 33,
   "id": "3983f7cd",
   "metadata": {},
   "outputs": [
    {
     "data": {
      "text/plain": [
       "\"New York's Provinces\""
      ]
     },
     "execution_count": 33,
     "metadata": {},
     "output_type": "execute_result"
    }
   ],
   "source": [
    "\"New York's Provinces\""
   ]
  },
  {
   "cell_type": "code",
   "execution_count": 34,
   "id": "641f162f",
   "metadata": {},
   "outputs": [
    {
     "data": {
      "text/plain": [
       "\"New York's Provinces\""
      ]
     },
     "execution_count": 34,
     "metadata": {},
     "output_type": "execute_result"
    }
   ],
   "source": [
    "'''New York's Provinces'''"
   ]
  },
  {
   "attachments": {},
   "cell_type": "markdown",
   "id": "3ed9da6f",
   "metadata": {},
   "source": [
    "integer: They are whole numbers. They can take positive, negative or zero values. They do not contain \n",
    "fractional values. For example: 10, 0, -10"
   ]
  },
  {
   "attachments": {},
   "cell_type": "markdown",
   "id": "b90721c9",
   "metadata": {},
   "source": [
    "float: Real numbers. Also called floating point numbers. However, here we need to use a dot instead of a comma. Ex: 12.6, 12.0, -12.0, 0.0 \n"
   ]
  },
  {
   "attachments": {},
   "cell_type": "markdown",
   "id": "f5586b62",
   "metadata": {},
   "source": [
    "bool: Questions whether any statement is true or false. Bool can take two values. These are True and False . \n"
   ]
  },
  {
   "attachments": {},
   "cell_type": "markdown",
   "id": "5de0a231",
   "metadata": {},
   "source": [
    "str(): Converts data to string (character array). \n"
   ]
  },
  {
   "cell_type": "code",
   "execution_count": 35,
   "id": "f0ecdec1",
   "metadata": {},
   "outputs": [
    {
     "data": {
      "text/plain": [
       "'5.0'"
      ]
     },
     "execution_count": 35,
     "metadata": {},
     "output_type": "execute_result"
    }
   ],
   "source": [
    "str(4) #Output: '4' \n",
    "str(4.0) #Output: '4.0' \n",
    "str(10+2) #Output: '12' \n",
    "str(10/2) #Output: '5' "
   ]
  },
  {
   "cell_type": "markdown",
   "id": "124fef37",
   "metadata": {},
   "source": [
    "int(): Converts data to integer (integer). "
   ]
  },
  {
   "cell_type": "code",
   "execution_count": 37,
   "id": "485ccc53",
   "metadata": {},
   "outputs": [
    {
     "data": {
      "text/plain": [
       "5"
      ]
     },
     "execution_count": 37,
     "metadata": {},
     "output_type": "execute_result"
    }
   ],
   "source": [
    "int(28.9) #Output: 28 \n",
    "int(5+4) #Output: 9 \n",
    "int(5/3) #Output: 1 \n",
    "int(5*0.4) #Output: 2 \n",
    "int(0.8+0.9) #Output: 1 \n",
    "int(\"5\") #Output: 5 \n"
   ]
  },
  {
   "attachments": {},
   "cell_type": "markdown",
   "id": "0de26c55",
   "metadata": {},
   "source": [
    "Note: To convert the data in quotes to integers, the expression in quotes must be an integer. is required. Otherwise, the conversion process cannot be done. \n"
   ]
  },
  {
   "cell_type": "code",
   "execution_count": 38,
   "id": "abcf694d",
   "metadata": {},
   "outputs": [
    {
     "ename": "ValueError",
     "evalue": "invalid literal for int() with base 10: '28.9'",
     "output_type": "error",
     "traceback": [
      "\u001b[0;31m---------------------------------------------------------------------------\u001b[0m",
      "\u001b[0;31mValueError\u001b[0m                                Traceback (most recent call last)",
      "Cell \u001b[0;32mIn[38], line 1\u001b[0m\n\u001b[0;32m----> 1\u001b[0m \u001b[39mint\u001b[39;49m(\u001b[39m\"\u001b[39;49m\u001b[39m28.9\u001b[39;49m\u001b[39m\"\u001b[39;49m) \u001b[39m#the expression in quotes is not an integer. Gives an error. \u001b[39;00m\n\u001b[1;32m      2\u001b[0m \u001b[39mint\u001b[39m(\u001b[39m\"\u001b[39m\u001b[39m5+4\u001b[39m\u001b[39m\"\u001b[39m) \u001b[39m#error, the expression in quotes is not an integer. Gives an error. \u001b[39;00m\n\u001b[1;32m      3\u001b[0m \u001b[39mint\u001b[39m(\u001b[39m\"\u001b[39m\u001b[39mcomputer\u001b[39m\u001b[39m\"\u001b[39m) \u001b[39m#error, the expression in quotes is not an integer. Gives an error. \u001b[39;00m\n",
      "\u001b[0;31mValueError\u001b[0m: invalid literal for int() with base 10: '28.9'"
     ]
    }
   ],
   "source": [
    "int(\"28.9\") #the expression in quotes is not an integer. Gives an error. \n",
    "int(\"5+4\") #error, the expression in quotes is not an integer. Gives an error. \n",
    "int(\"computer\") #error, the expression in quotes is not an integer. Gives an error. \n"
   ]
  },
  {
   "attachments": {},
   "cell_type": "markdown",
   "id": "1e7c6810",
   "metadata": {},
   "source": [
    "float(): Converts data to float (real number). "
   ]
  },
  {
   "cell_type": "code",
   "execution_count": 39,
   "id": "c401ea8e",
   "metadata": {},
   "outputs": [
    {
     "data": {
      "text/plain": [
       "7.5"
      ]
     },
     "execution_count": 39,
     "metadata": {},
     "output_type": "execute_result"
    }
   ],
   "source": [
    "float(5) #Output: 5.0 \n",
    "float(\"5\") #Output: 5.0 \n",
    "float(\"5.7\") #Output: 5.7 \n",
    "float(-5) #Output: -5.0 \n",
    "float(0) #Output: 0.0 \n",
    "float(3+4) #Output: 7.0 \n",
    "float(3.5+4) #Output: 7.5 \n"
   ]
  },
  {
   "attachments": {},
   "cell_type": "markdown",
   "id": "b375c5b0",
   "metadata": {},
   "source": [
    "Note: In order to convert the data in quotes to float, the expression in quotes must be an integer or float. Otherwise, the conversion cannot be done.\n"
   ]
  },
  {
   "cell_type": "code",
   "execution_count": 40,
   "id": "0b8a8788",
   "metadata": {},
   "outputs": [
    {
     "ename": "ValueError",
     "evalue": "could not convert string to float: '3+4'",
     "output_type": "error",
     "traceback": [
      "\u001b[0;31m---------------------------------------------------------------------------\u001b[0m",
      "\u001b[0;31mValueError\u001b[0m                                Traceback (most recent call last)",
      "Cell \u001b[0;32mIn[40], line 1\u001b[0m\n\u001b[0;32m----> 1\u001b[0m \u001b[39mfloat\u001b[39;49m(\u001b[39m\"\u001b[39;49m\u001b[39m3+4\u001b[39;49m\u001b[39m\"\u001b[39;49m) \u001b[39m#the expression in quotes is not an integer or a float. It gives an error. \u001b[39;00m\n",
      "\u001b[0;31mValueError\u001b[0m: could not convert string to float: '3+4'"
     ]
    }
   ],
   "source": [
    "float(\"3+4\") #the expression in quotes is not an integer or a float. It gives an error. "
   ]
  },
  {
   "attachments": {},
   "cell_type": "markdown",
   "id": "ef9ef787",
   "metadata": {},
   "source": [
    "print() function: It is the function to print on the screen. \n"
   ]
  },
  {
   "cell_type": "code",
   "execution_count": null,
   "id": "bd5dc491",
   "metadata": {},
   "outputs": [],
   "source": [
    "#Rule: We need to enclose strings in quotes. \n",
    "print(\"Hello World\") #Output: 'Hello World' \n",
    "\n",
    "#Rule: We can also enclose strings in single quotes. \n",
    "print('Hello World') #Output: 'Hello World' \n",
    "\n",
    "#Rule: We can also enclose strings in three single quotes. \n",
    "print('''Hello World''') #Output: 'Hello World' \n",
    "\n",
    "#Rule: We can also enclose strings in three double quotes. \n",
    "print(\"\"\"Hello World\"\"\") #Output: 'Hello World'\n",
    "\n",
    "#Rule: If we do not enclose strings in quotes, the code will give an error. \n",
    "print(Hello World) #Output: Error \n",
    "\n",
    "#Rule: We do not need to put numbers in quotation marks. \n",
    "print(5) #Output: 5 \n",
    "#Rule: If we put numbers in quotes, it is now a string. Therefore, it does not have any mathematical meaning. \n",
    "\n",
    "\n",
    "#Rule: If there is a mathematical operation in parentheses, the result is written. \n",
    "print(6+3) #Output: 9 \n",
    "\n",
    "#Rule: If a mathematical operation is written in quotes, the data will become a string, so the operation is not performed and it is written as is. \n",
    "print('5+4') #Output: '5+4' \n",
    "\n",
    "#Rule: An empty string can be printed to the screen. \n",
    "print() #Output: \n",
    "\n",
    "#Rule: Commas leave a space between statements. \n",
    "print(\"Computer\", \"Science\", \"Coding\") #Output: Computer Science Coding \n",
    "\n",
    "#Rule: The + sign combines expressions. \n",
    "print(\"single\"+\" \"+\"cell\") #Output: singlecell. \n",
    "#There is a space character inside the middle double quote. So we added a space character in between. \n",
    "#Rule: Expressions can be combined without using the + sign. \n",
    "print(999 + \"9\") #integer and string are not added Output: Error "
   ]
  },
  {
   "cell_type": "code",
   "execution_count": 43,
   "id": "3b0fc25a",
   "metadata": {},
   "outputs": [
    {
     "name": "stdout",
     "output_type": "stream",
     "text": [
      "singlecell\n"
     ]
    }
   ],
   "source": [
    "print(\"single\"+\"cell\")"
   ]
  },
  {
   "cell_type": "code",
   "execution_count": null,
   "id": "e546439c",
   "metadata": {},
   "outputs": [],
   "source": []
  }
 ],
 "metadata": {
  "kernelspec": {
   "display_name": "Python 3",
   "language": "python",
   "name": "python3"
  },
  "language_info": {
   "codemirror_mode": {
    "name": "ipython",
    "version": 3
   },
   "file_extension": ".py",
   "mimetype": "text/x-python",
   "name": "python",
   "nbconvert_exporter": "python",
   "pygments_lexer": "ipython3",
   "version": "3.12.0"
  },
  "vscode": {
   "interpreter": {
    "hash": "aee8b7b246df8f9039afb4144a1f6fd8d2ca17a180786b69acc140d282b71a49"
   }
  }
 },
 "nbformat": 4,
 "nbformat_minor": 5
}
