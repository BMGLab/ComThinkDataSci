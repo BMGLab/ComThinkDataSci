{
 "cells": [
  {
   "cell_type": "markdown",
   "id": "efe4afff",
   "metadata": {},
   "source": [
    "# Operators and Expressions\n",
    "\n",
    "## Practice Exercises\n"
   ]
  },
  {
   "cell_type": "markdown",
   "id": "6d69ab06",
   "metadata": {},
   "source": [
    "### Perform arithmetic operations"
   ]
  },
  {
   "cell_type": "code",
   "execution_count": null,
   "id": "a0fb99cf",
   "metadata": {},
   "outputs": [],
   "source": [
    "a, b = 10, 5\n",
    "print(a + b, a - b, a * b, a / b)"
   ]
  },
  {
   "cell_type": "markdown",
   "id": "c3e30973",
   "metadata": {},
   "source": [
    "### Check equality"
   ]
  },
  {
   "cell_type": "code",
   "execution_count": null,
   "id": "7c188b14",
   "metadata": {},
   "outputs": [],
   "source": [
    "print(10 == 10, 10 != 5)"
   ]
  },
  {
   "cell_type": "markdown",
   "id": "daef4873",
   "metadata": {},
   "source": [
    "### Use logical operators"
   ]
  },
  {
   "cell_type": "code",
   "execution_count": null,
   "id": "b9a14a3c",
   "metadata": {},
   "outputs": [],
   "source": [
    "x, y = True, False\n",
    "print(x and y, x or y, not x)"
   ]
  }
 ],
 "metadata": {},
 "nbformat": 4,
 "nbformat_minor": 5
}
