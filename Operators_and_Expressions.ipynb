{
 "cells": [
  {
   "cell_type": "markdown",
   "id": "ae102872",
   "metadata": {},
   "source": [
    "# Operators and Expressions\n",
    "\n",
    "## Practice Exercises\n"
   ]
  },
  {
   "cell_type": "markdown",
   "id": "632339f2",
   "metadata": {},
   "source": [
    "### Perform arithmetic operations"
   ]
  },
  {
   "cell_type": "code",
   "execution_count": null,
   "id": "b41de03e",
   "metadata": {},
   "outputs": [],
   "source": [
    "a, b = 10, 5\n",
    "print(a + b, a - b, a * b, a / b, a % b)"
   ]
  },
  {
   "cell_type": "markdown",
   "id": "40b8e86c",
   "metadata": {},
   "source": [
    "### Check equality"
   ]
  },
  {
   "cell_type": "code",
   "execution_count": null,
   "id": "ef716b0a",
   "metadata": {},
   "outputs": [],
   "source": [
    "print(10 == 10, 10 != 5, 10 > 5, 5 < 10)"
   ]
  },
  {
   "cell_type": "markdown",
   "id": "d83c2370",
   "metadata": {},
   "source": [
    "### Use logical operators"
   ]
  },
  {
   "cell_type": "code",
   "execution_count": null,
   "id": "a23ba509",
   "metadata": {},
   "outputs": [],
   "source": [
    "x, y = True, False\n",
    "print(x and y, x or y, not x)"
   ]
  },
  {
   "cell_type": "markdown",
   "id": "edc02712",
   "metadata": {},
   "source": [
    "### Order of operations"
   ]
  },
  {
   "cell_type": "code",
   "execution_count": null,
   "id": "05ab3e95",
   "metadata": {},
   "outputs": [],
   "source": [
    "print(2 + 3 * 4)\n",
    "print((2 + 3) * 4)"
   ]
  },
  {
   "cell_type": "markdown",
   "id": "1284a49a",
   "metadata": {},
   "source": [
    "### Bitwise operations"
   ]
  },
  {
   "cell_type": "code",
   "execution_count": null,
   "id": "a0f5d200",
   "metadata": {},
   "outputs": [],
   "source": [
    "print(5 & 3)\n",
    "print(5 | 3)\n",
    "print(5 ^ 3)\n",
    "print(~5)"
   ]
  }
 ],
 "metadata": {},
 "nbformat": 4,
 "nbformat_minor": 5
}
