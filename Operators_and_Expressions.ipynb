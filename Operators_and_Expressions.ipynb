{
 "cells": [
  {
   "cell_type": "markdown",
   "id": "ae102872",
   "metadata": {},
   "source": [
    "# Operators and Expressions\n",
    "\n",
    "## Practice Exercises\n"
   ]
  },
  {
   "cell_type": "markdown",
   "id": "632339f2",
   "metadata": {},
   "source": [
    "### Perform arithmetic operations"
   ]
  },
  {
   "cell_type": "code",
   "execution_count": 1,
   "id": "b41de03e",
   "metadata": {},
   "outputs": [
    {
     "name": "stdout",
     "output_type": "stream",
     "text": [
      "15 5 50 2.0 0\n"
     ]
    }
   ],
   "source": [
    "a, b = 10, 5\n",
    "print(a + b, a - b, a * b, a / b, a % b)"
   ]
  },
  {
   "cell_type": "markdown",
   "id": "40b8e86c",
   "metadata": {},
   "source": [
    "### Check equality"
   ]
  },
  {
   "cell_type": "code",
   "execution_count": 2,
   "id": "ef716b0a",
   "metadata": {},
   "outputs": [
    {
     "name": "stdout",
     "output_type": "stream",
     "text": [
      "True True True True\n"
     ]
    }
   ],
   "source": [
    "print(10 == 10, 10 != 5, 10 > 5, 5 < 10)"
   ]
  },
  {
   "cell_type": "markdown",
   "id": "d83c2370",
   "metadata": {},
   "source": [
    "### Use logical operators"
   ]
  },
  {
   "cell_type": "code",
   "execution_count": 3,
   "id": "a23ba509",
   "metadata": {},
   "outputs": [
    {
     "name": "stdout",
     "output_type": "stream",
     "text": [
      "False True False\n"
     ]
    }
   ],
   "source": [
    "x, y = True, False\n",
    "print(x and y, x or y, not x)"
   ]
  },
  {
   "cell_type": "markdown",
   "id": "edc02712",
   "metadata": {},
   "source": [
    "### Order of operations"
   ]
  },
  {
   "cell_type": "code",
   "execution_count": 4,
   "id": "05ab3e95",
   "metadata": {},
   "outputs": [
    {
     "name": "stdout",
     "output_type": "stream",
     "text": [
      "14\n",
      "20\n"
     ]
    }
   ],
   "source": [
    "print(2 + 3 * 4)\n",
    "print((2 + 3) * 4)"
   ]
  },
  {
   "attachments": {},
   "cell_type": "markdown",
   "id": "730d7071",
   "metadata": {},
   "source": [
    "COMPARISON OPERATORS: "
   ]
  },
  {
   "attachments": {},
   "cell_type": "markdown",
   "id": "1950f3bc",
   "metadata": {},
   "source": [
    "== Equals \n",
    "!= Not equal\n",
    ">= greater than equals\n",
    "<= less than equal "
   ]
  },
  {
   "attachments": {},
   "cell_type": "markdown",
   "id": "716cc5e4",
   "metadata": {},
   "source": [
    "and, or, not operators "
   ]
  },
  {
   "cell_type": "code",
   "execution_count": 6,
   "id": "ada247b5",
   "metadata": {},
   "outputs": [],
   "source": [
    "a = 23\n",
    "b = 10"
   ]
  },
  {
   "cell_type": "code",
   "execution_count": 7,
   "id": "6ca93f42",
   "metadata": {},
   "outputs": [
    {
     "data": {
      "text/plain": [
       "True"
      ]
     },
     "execution_count": 7,
     "metadata": {},
     "output_type": "execute_result"
    }
   ],
   "source": [
    "a == 23 and b == 10 "
   ]
  },
  {
   "cell_type": "code",
   "execution_count": 8,
   "id": "0dd417d9",
   "metadata": {},
   "outputs": [
    {
     "data": {
      "text/plain": [
       "False"
      ]
     },
     "execution_count": 8,
     "metadata": {},
     "output_type": "execute_result"
    }
   ],
   "source": [
    "a == 23 and b == 56"
   ]
  },
  {
   "cell_type": "code",
   "execution_count": 9,
   "id": "08a835a4",
   "metadata": {},
   "outputs": [
    {
     "data": {
      "text/plain": [
       "True"
      ]
     },
     "execution_count": 9,
     "metadata": {},
     "output_type": "execute_result"
    }
   ],
   "source": [
    "a == 23 or b == 56"
   ]
  },
  {
   "cell_type": "code",
   "execution_count": 10,
   "id": "16f8feaf",
   "metadata": {},
   "outputs": [],
   "source": [
    "a = \"abcd\""
   ]
  },
  {
   "cell_type": "code",
   "execution_count": 11,
   "id": "c0bccf53",
   "metadata": {},
   "outputs": [
    {
     "data": {
      "text/plain": [
       "True"
      ]
     },
     "execution_count": 11,
     "metadata": {},
     "output_type": "execute_result"
    }
   ],
   "source": [
    "#is the expression “b” in the variable a? \n",
    "\"b\" in a "
   ]
  },
  {
   "cell_type": "code",
   "execution_count": 12,
   "id": "9929cc3e",
   "metadata": {},
   "outputs": [
    {
     "data": {
      "text/plain": [
       "False"
      ]
     },
     "execution_count": 12,
     "metadata": {},
     "output_type": "execute_result"
    }
   ],
   "source": [
    "#is the expression “f” in the variable a? \n",
    "\"f\" in a"
   ]
  },
  {
   "attachments": {},
   "cell_type": "markdown",
   "id": "2277c3f8",
   "metadata": {},
   "source": [
    "Identity Operator: Everything in Python has an identification number. We can find this identification number with the id() function. "
   ]
  },
  {
   "cell_type": "code",
   "execution_count": 14,
   "id": "d206b31f",
   "metadata": {},
   "outputs": [
    {
     "data": {
      "text/plain": [
       "4474428224"
      ]
     },
     "execution_count": 14,
     "metadata": {},
     "output_type": "execute_result"
    }
   ],
   "source": [
    "a = 100\n",
    "id(a) #the identification number of the number 100 represented by the variable a"
   ]
  },
  {
   "attachments": {},
   "cell_type": "markdown",
   "id": "d1eca77e",
   "metadata": {},
   "source": [
    "### Basic string manipulations\n"
   ]
  },
  {
   "cell_type": "code",
   "execution_count": 3,
   "id": "c9ed3a34",
   "metadata": {},
   "outputs": [],
   "source": [
    "mylist = [1, 3, \"ATGC\", 22, \"one million\", \"4.2\"]"
   ]
  },
  {
   "cell_type": "code",
   "execution_count": 4,
   "id": "03cc151f",
   "metadata": {},
   "outputs": [
    {
     "data": {
      "text/plain": [
       "'one million'"
      ]
     },
     "execution_count": 4,
     "metadata": {},
     "output_type": "execute_result"
    }
   ],
   "source": [
    "mylist[0]\n",
    "mylist[1]\n",
    "mylist[-1]\n",
    "mylist[-2]"
   ]
  },
  {
   "cell_type": "code",
   "execution_count": 5,
   "id": "bd83a593",
   "metadata": {},
   "outputs": [
    {
     "data": {
      "text/plain": [
       "'T'"
      ]
     },
     "execution_count": 5,
     "metadata": {},
     "output_type": "execute_result"
    }
   ],
   "source": [
    "sequence = 'ASDFQWERTY'\n",
    "\n",
    "sequence[0] #positions/indices start with 0, NOT 1 !!!\n",
    "sequence[1]\n",
    "sequence[-1] #read backwards with negative indices \n",
    "sequence[-2]"
   ]
  },
  {
   "cell_type": "code",
   "execution_count": 6,
   "id": "f60af76e",
   "metadata": {},
   "outputs": [
    {
     "name": "stdout",
     "output_type": "stream",
     "text": [
      "[3, 'ATGC'] ['one million', '4.2']\n"
     ]
    }
   ],
   "source": [
    "sequence[4:6] #This will give the 5th and 6th element. \n",
    "sequence[0:3] #0 can be optionally ignored, sequence[:3] \n",
    "sec_two_pos = mylist[1:3] #assign to a variable\n",
    "last_two_pos = mylist[-2:]\n",
    "print(sec_two_pos, last_two_pos)\n"
   ]
  },
  {
   "attachments": {},
   "cell_type": "markdown",
   "id": "8a4f41ed",
   "metadata": {},
   "source": [
    "### CONDITIONAL CONDITIONS: if, else, elif "
   ]
  },
  {
   "attachments": {},
   "cell_type": "markdown",
   "id": "d2cfe066",
   "metadata": {},
   "source": [
    "\n",
    "IF statements let you conditionally do a task. The basic syntax for a comparison is as follows: \n",
    "if item1 == item2: \n",
    "\t#do something \n",
    "else: \n",
    "\t#do something else\n",
    "\n"
   ]
  },
  {
   "cell_type": "code",
   "execution_count": 1,
   "id": "1a9e8fea",
   "metadata": {},
   "outputs": [
    {
     "name": "stdout",
     "output_type": "stream",
     "text": [
      "It is a short piece of DNA.\n"
     ]
    }
   ],
   "source": [
    "sequence = 'ATGACA'\n",
    "if len(sequence) > 10:\n",
    "    print(\"This is a long DNA fragment\")\n",
    "else:\n",
    "    print('It is a short piece of DNA.')"
   ]
  },
  {
   "cell_type": "code",
   "execution_count": null,
   "id": "41e1e9a2",
   "metadata": {},
   "outputs": [],
   "source": []
  },
  {
   "attachments": {},
   "cell_type": "markdown",
   "id": "379b6ced",
   "metadata": {},
   "source": [
    "for loop: Repeats the operations one by one with specified start, end and increment values. \n",
    "if you need to write from 1 to 100, such a solution will not be correct! In this case, loop structures should be preferred. While and for structures for loops in Python \n",
    "is used. \n",
    "Ex: Let's print all the numbers from 1 to 100. Let our variable be n;"
   ]
  },
  {
   "cell_type": "code",
   "execution_count": 7,
   "id": "4c22167d",
   "metadata": {},
   "outputs": [
    {
     "name": "stdout",
     "output_type": "stream",
     "text": [
      "1 2 3 4 5 6 7 8 9 10 11 12 13 14 15 16 17 18 19 20 21 22 23 24 25 26 27 28 29 30 31 32 33 34 35 36 37 38 39 40 41 42 43 44 45 46 47 48 49 50 51 52 53 54 55 56 57 58 59 60 61 62 63 64 65 66 67 68 69 70 71 72 73 74 75 76 77 78 79 80 81 82 83 84 85 86 87 88 89 90 91 92 93 94 95 96 97 98 99 "
     ]
    }
   ],
   "source": [
    "for n in range(1,100):\n",
    "    print(n, end=\" \") "
   ]
  },
  {
   "attachments": {},
   "cell_type": "markdown",
   "id": "a1dc1214",
   "metadata": {},
   "source": [
    "Now let's print all the odd numbers from 1 to 100. Let our variable be n again;"
   ]
  },
  {
   "cell_type": "code",
   "execution_count": 8,
   "id": "eb15c82a",
   "metadata": {},
   "outputs": [
    {
     "name": "stdout",
     "output_type": "stream",
     "text": [
      "1 3 5 7 9 11 13 15 17 19 21 23 25 27 29 31 33 35 37 39 41 43 45 47 49 51 53 55 57 59 61 63 65 67 69 71 73 75 77 79 81 83 85 87 89 91 93 95 97 99 "
     ]
    }
   ],
   "source": [
    "for n in range(1,100,2):\n",
    "    print(n, end=\" \") "
   ]
  },
  {
   "attachments": {},
   "cell_type": "markdown",
   "id": "a744f1ec",
   "metadata": {},
   "source": [
    "Ex: Let's print the numbers from 21 to 0 by decreasing them by 3. \n"
   ]
  },
  {
   "cell_type": "code",
   "execution_count": 12,
   "id": "a0e6984a",
   "metadata": {},
   "outputs": [
    {
     "name": "stdout",
     "output_type": "stream",
     "text": [
      "21 18 15 12 9 6 3 "
     ]
    }
   ],
   "source": [
    "for n in range(21, 0, -3):\n",
    "    print(n, end=\" \")"
   ]
  },
  {
   "attachments": {},
   "cell_type": "markdown",
   "id": "1de9764f",
   "metadata": {},
   "source": [
    "Ex: Sum of numbers from 1 to 100 "
   ]
  },
  {
   "cell_type": "code",
   "execution_count": 13,
   "id": "4d1a4845",
   "metadata": {},
   "outputs": [
    {
     "name": "stdout",
     "output_type": "stream",
     "text": [
      "4950\n"
     ]
    }
   ],
   "source": [
    "top = 0\n",
    "for i in range(1, 100):\n",
    "    top += i\n",
    "print(top)"
   ]
  },
  {
   "attachments": {},
   "cell_type": "markdown",
   "id": "965f3de4",
   "metadata": {},
   "source": [
    "Ex: Program that prints 10 and powers of 10 \n"
   ]
  },
  {
   "cell_type": "code",
   "execution_count": 14,
   "id": "e506bd3b",
   "metadata": {},
   "outputs": [
    {
     "name": "stdout",
     "output_type": "stream",
     "text": [
      "1\n",
      "10\n",
      "100\n",
      "1000\n",
      "10000\n"
     ]
    }
   ],
   "source": [
    "for i in range(5):\n",
    "    print(\"{}\".format(10**i))\n"
   ]
  },
  {
   "cell_type": "code",
   "execution_count": 15,
   "id": "b227db09",
   "metadata": {},
   "outputs": [
    {
     "name": "stdout",
     "output_type": "stream",
     "text": [
      "4 5 6 7 "
     ]
    }
   ],
   "source": [
    "numbers = \"1234567\" \n",
    "for i in numbers:\n",
    "    if int(i) > 3:\n",
    "        print(i, end=\" \") "
   ]
  },
  {
   "attachments": {},
   "cell_type": "markdown",
   "id": "7fa7ade8",
   "metadata": {},
   "source": [
    "Explanation: We created a numbers variable. We separated each character in the expression “1234567” . So all numbers have now declared their independence. We also assigned each character to the variable i . However, we converted these characters to integers by writing the code int(i) . Because We need to convert the data into numbers to perform mathematical operations. We printed the numbers greater than 3 with the if command. \n"
   ]
  },
  {
   "attachments": {},
   "cell_type": "markdown",
   "id": "1f833423",
   "metadata": {},
   "source": [
    "#### while loop: Repeats operations as long as a condition is met. The English word while means 'while, as long as...' in Turkish. \n"
   ]
  },
  {
   "cell_type": "code",
   "execution_count": 23,
   "id": "7fa600c7",
   "metadata": {},
   "outputs": [
    {
     "name": "stdout",
     "output_type": "stream",
     "text": [
      "1 a is less then 5\n",
      "2 a is less then 5\n",
      "3 a is less then 5\n",
      "4 a is less then 5\n"
     ]
    }
   ],
   "source": [
    "a = 1\n",
    "while a < 5: # as long as a is less then 5\n",
    "    print(a, \"a is less then 5\")\n",
    "    a += 1\n"
   ]
  },
  {
   "attachments": {},
   "cell_type": "markdown",
   "id": "274bdbf4",
   "metadata": {},
   "source": [
    "Explanation: In the first line, we assigned 1 to the variable a. When we reached the second line, we checked whether the variable was less than 5. If it was less than 5, our code would go to the next line and the variable would be printed on the screen. When we reached the last code, the variable a would increase by 1 and become 2 and enter the loop. Then the loop would continue and 2 would be printed on the screen. This would be provided until a is not less than 5. In other words, when a is 5, that is, when the while a<5: condition is not met, the loop would stop and only 1 2 3 4 would be printed on the screen. \n"
   ]
  }
 ],
 "metadata": {
  "kernelspec": {
   "display_name": "Python 3",
   "language": "python",
   "name": "python3"
  },
  "language_info": {
   "codemirror_mode": {
    "name": "ipython",
    "version": 3
   },
   "file_extension": ".py",
   "mimetype": "text/x-python",
   "name": "python",
   "nbconvert_exporter": "python",
   "pygments_lexer": "ipython3",
   "version": "3.12.0"
  },
  "vscode": {
   "interpreter": {
    "hash": "aee8b7b246df8f9039afb4144a1f6fd8d2ca17a180786b69acc140d282b71a49"
   }
  }
 },
 "nbformat": 4,
 "nbformat_minor": 5
}
