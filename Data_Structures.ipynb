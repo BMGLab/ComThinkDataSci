{
 "cells": [
  {
   "cell_type": "markdown",
   "id": "7190c87a",
   "metadata": {},
   "source": [
    "# Data Structures\n",
    "\n",
    "## Practice Exercises\n"
   ]
  },
  {
   "cell_type": "markdown",
   "id": "978f0e5d",
   "metadata": {},
   "source": [
    "### Create and modify a list"
   ]
  },
  {
   "cell_type": "code",
   "execution_count": null,
   "id": "851c97c9",
   "metadata": {},
   "outputs": [],
   "source": [
    "my_list = [1, 2, 3]\n",
    "my_list.append(4)\n",
    "print(my_list)\n",
    "my_list.remove(2)\n",
    "print(my_list)"
   ]
  },
  {
   "cell_type": "markdown",
   "id": "e12e6fdd",
   "metadata": {},
   "source": [
    "### Access a tuple element"
   ]
  },
  {
   "cell_type": "code",
   "execution_count": null,
   "id": "e40b0f37",
   "metadata": {},
   "outputs": [],
   "source": [
    "my_tuple = (10, 20, 30)\n",
    "print(my_tuple[1])\n",
    "print(my_tuple[-1])"
   ]
  },
  {
   "cell_type": "markdown",
   "id": "61a26dd5",
   "metadata": {},
   "source": [
    "### Use a dictionary"
   ]
  },
  {
   "cell_type": "code",
   "execution_count": null,
   "id": "e167a248",
   "metadata": {},
   "outputs": [],
   "source": [
    "my_dict = {\"name\": \"Alice\", \"age\": 25}\n",
    "print(my_dict[\"name\"])\n",
    "my_dict[\"city\"] = \"New York\"\n",
    "print(my_dict)"
   ]
  },
  {
   "cell_type": "markdown",
   "id": "9cdbc1dd",
   "metadata": {},
   "source": [
    "### Iterate through a dictionary"
   ]
  },
  {
   "cell_type": "code",
   "execution_count": null,
   "id": "dd54aa68",
   "metadata": {},
   "outputs": [],
   "source": [
    "for key, value in my_dict.items():\n",
    "    print(key, \":\", value)"
   ]
  },
  {
   "cell_type": "markdown",
   "id": "4a65d3b0",
   "metadata": {},
   "source": [
    "### List comprehension"
   ]
  },
  {
   "cell_type": "code",
   "execution_count": null,
   "id": "a2474c44",
   "metadata": {},
   "outputs": [],
   "source": [
    "squares = [x**2 for x in range(5)]\n",
    "print(squares)"
   ]
  }
 ],
 "metadata": {},
 "nbformat": 4,
 "nbformat_minor": 5
}
