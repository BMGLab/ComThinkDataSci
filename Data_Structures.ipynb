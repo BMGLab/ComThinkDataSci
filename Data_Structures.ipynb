{
 "cells": [
  {
   "cell_type": "markdown",
   "id": "8d8bc18c",
   "metadata": {},
   "source": [
    "# Data Structures\n",
    "\n",
    "## Practice Exercises\n"
   ]
  },
  {
   "cell_type": "markdown",
   "id": "8d44b5cf",
   "metadata": {},
   "source": [
    "### Create and modify a list"
   ]
  },
  {
   "cell_type": "code",
   "execution_count": null,
   "id": "83fa12c9",
   "metadata": {},
   "outputs": [],
   "source": [
    "my_list = [1, 2, 3]\n",
    "my_list.append(4)\n",
    "print(my_list)"
   ]
  },
  {
   "cell_type": "markdown",
   "id": "f6212329",
   "metadata": {},
   "source": [
    "### Access a tuple element"
   ]
  },
  {
   "cell_type": "code",
   "execution_count": null,
   "id": "ffc5aebb",
   "metadata": {},
   "outputs": [],
   "source": [
    "my_tuple = (10, 20, 30)\n",
    "print(my_tuple[1])"
   ]
  },
  {
   "cell_type": "markdown",
   "id": "4fd8819f",
   "metadata": {},
   "source": [
    "### Use a dictionary"
   ]
  },
  {
   "cell_type": "code",
   "execution_count": null,
   "id": "e0a678af",
   "metadata": {},
   "outputs": [],
   "source": [
    "my_dict = {\"name\": \"Alice\", \"age\": 25}\n",
    "print(my_dict[\"name\"])"
   ]
  }
 ],
 "metadata": {},
 "nbformat": 4,
 "nbformat_minor": 5
}
