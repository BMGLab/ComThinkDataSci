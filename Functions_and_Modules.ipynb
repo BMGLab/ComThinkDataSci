{
 "cells": [
  {
   "cell_type": "markdown",
   "id": "ca992070",
   "metadata": {},
   "source": [
    "# Functions and Modules\n",
    "\n",
    "## Practice Exercises\n"
   ]
  },
  {
   "cell_type": "markdown",
   "id": "bc581365",
   "metadata": {},
   "source": [
    "### Define and call a function"
   ]
  },
  {
   "cell_type": "code",
   "execution_count": null,
   "id": "97bf4f5e",
   "metadata": {},
   "outputs": [],
   "source": [
    "def greet(name):\n",
    "    print(\"Hello, \" + name)\n",
    "greet(\"Alice\")\n",
    "greet(\"Bob\")"
   ]
  },
  {
   "cell_type": "markdown",
   "id": "f7678213",
   "metadata": {},
   "source": [
    "### Use the math module"
   ]
  },
  {
   "cell_type": "code",
   "execution_count": null,
   "id": "6c1bc2bf",
   "metadata": {},
   "outputs": [],
   "source": [
    "import math\n",
    "print(math.sqrt(16))\n",
    "print(math.factorial(5))"
   ]
  },
  {
   "cell_type": "markdown",
   "id": "80fd59ee",
   "metadata": {},
   "source": [
    "### Generate a random number"
   ]
  },
  {
   "cell_type": "code",
   "execution_count": null,
   "id": "90d9df63",
   "metadata": {},
   "outputs": [],
   "source": [
    "import random\n",
    "print(random.randint(1, 100))\n",
    "print(random.choice([\"apple\", \"banana\", \"cherry\"]))"
   ]
  },
  {
   "cell_type": "markdown",
   "id": "d14a46b4",
   "metadata": {},
   "source": [
    "### Function with return value"
   ]
  },
  {
   "cell_type": "code",
   "execution_count": null,
   "id": "f1ab1d89",
   "metadata": {},
   "outputs": [],
   "source": [
    "def square(n):\n",
    "    return n * n\n",
    "print(square(5))"
   ]
  },
  {
   "cell_type": "markdown",
   "id": "7a96f622",
   "metadata": {},
   "source": [
    "### Function with multiple arguments"
   ]
  },
  {
   "cell_type": "code",
   "execution_count": null,
   "id": "e1b21b83",
   "metadata": {},
   "outputs": [],
   "source": [
    "def add(a, b):\n",
    "    return a + b\n",
    "print(add(3, 7))"
   ]
  }
 ],
 "metadata": {},
 "nbformat": 4,
 "nbformat_minor": 5
}
