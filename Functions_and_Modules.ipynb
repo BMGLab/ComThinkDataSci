{
 "cells": [
  {
   "cell_type": "markdown",
   "id": "41f2126a",
   "metadata": {},
   "source": [
    "From the last course:"
   ]
  },
  {
   "cell_type": "code",
   "execution_count": 1,
   "id": "0ca3214e",
   "metadata": {},
   "outputs": [
    {
     "name": "stdout",
     "output_type": "stream",
     "text": [
      "1 a is less then 5\n",
      "2 a is less then 5\n",
      "3 a is less then 5\n",
      "4 a is less then 5\n"
     ]
    }
   ],
   "source": [
    "a = 1\n",
    "while a < 5: # as long as a is less then 5\n",
    "    print(a, \"a is less then 5\")\n",
    "    a += 1\n"
   ]
  },
  {
   "cell_type": "code",
   "execution_count": 2,
   "id": "0119860a",
   "metadata": {},
   "outputs": [
    {
     "name": "stdout",
     "output_type": "stream",
     "text": [
      "Countdown: 5\n",
      "Countdown: 4\n",
      "Countdown: 3\n",
      "Countdown: 2\n",
      "Countdown: 1\n",
      "Blast off!\n"
     ]
    }
   ],
   "source": [
    "countdown = 5\n",
    "while countdown > 0:\n",
    "    print(\"Countdown:\", countdown)\n",
    "    countdown -= 1\n",
    "print(\"Blast off!\")\n"
   ]
  },
  {
   "cell_type": "code",
   "execution_count": 3,
   "id": "7deb3462",
   "metadata": {},
   "outputs": [
    {
     "name": "stdout",
     "output_type": "stream",
     "text": [
      "Sum of numbers from 1 to 10 is 55\n"
     ]
    }
   ],
   "source": [
    "total = 0\n",
    "num = 1\n",
    "while num <= 10:\n",
    "    total += num\n",
    "    num += 1\n",
    "print(\"Sum of numbers from 1 to 10 is\", total)\n",
    "\n"
   ]
  },
  {
   "cell_type": "code",
   "execution_count": 4,
   "id": "33eed3de",
   "metadata": {},
   "outputs": [
    {
     "name": "stdout",
     "output_type": "stream",
     "text": [
      "a is: 1\n",
      "a is: 2\n",
      "a is: 3\n"
     ]
    }
   ],
   "source": [
    "a = 1\n",
    "while True:\n",
    "    print(\"a is:\", a)\n",
    "    a += 1\n",
    "    if a > 3:\n",
    "        break\n"
   ]
  },
  {
   "cell_type": "code",
   "execution_count": 5,
   "id": "85219746",
   "metadata": {},
   "outputs": [
    {
     "name": "stdout",
     "output_type": "stream",
     "text": [
      "Odd number: 1\n",
      "Odd number: 3\n",
      "Odd number: 5\n",
      "Odd number: 7\n",
      "Odd number: 9\n"
     ]
    }
   ],
   "source": [
    "num = 0\n",
    "while num < 10:\n",
    "    num += 1\n",
    "    if num % 2 == 0:\n",
    "        continue  # skip even numbers\n",
    "    print(\"Odd number:\", num)\n"
   ]
  },
  {
   "cell_type": "markdown",
   "id": "43a634b6",
   "metadata": {},
   "source": [
    "Note: Both `break` and `continue` are control flow statements used inside loops (while or for) to manage how and when the loop runs. `break` stops the loop immediately and used when you want to exit the loop early (e.g., condition met, error found, input received, etc.).\n",
    "\n"
   ]
  },
  {
   "cell_type": "code",
   "execution_count": 6,
   "id": "7fff6207",
   "metadata": {},
   "outputs": [
    {
     "name": "stdout",
     "output_type": "stream",
     "text": [
      "1\n",
      "2\n",
      "3\n",
      "4\n",
      "5\n"
     ]
    }
   ],
   "source": [
    "i = 1\n",
    "while i <= 10:\n",
    "    print(i)\n",
    "    if i == 5:\n",
    "        break  # Stop the loop when i is 5\n",
    "    i += 1\n"
   ]
  },
  {
   "cell_type": "markdown",
   "id": "5becbbd4",
   "metadata": {},
   "source": [
    "Note: \n",
    "`continue` skips the rest of the loop body for the current iteration and moves to the next iteration.\n",
    "Use when you want to skip certain values or conditions, but still keep looping."
   ]
  },
  {
   "cell_type": "code",
   "execution_count": 7,
   "id": "dbd4eebd",
   "metadata": {},
   "outputs": [
    {
     "name": "stdout",
     "output_type": "stream",
     "text": [
      "1\n",
      "2\n",
      "4\n",
      "5\n"
     ]
    }
   ],
   "source": [
    "i = 0\n",
    "while i < 5:\n",
    "    i += 1\n",
    "    if i == 3:\n",
    "        continue  # Skip printing when i is 3\n",
    "    print(i)\n"
   ]
  },
  {
   "cell_type": "markdown",
   "id": "ad159c87",
   "metadata": {},
   "source": [
    "`for loop`\n",
    "Use when\tYou know how many times you want to loop.\n",
    "Best for\tLooping over a sequence (e.g. list, range)\n",
    "\n",
    "`while loop`\n",
    "You want to loop until a condition is false.\n",
    "Looping based on a logical condition"
   ]
  },
  {
   "cell_type": "markdown",
   "id": "e51c45c3",
   "metadata": {},
   "source": []
  },
  {
   "cell_type": "markdown",
   "id": "ca992070",
   "metadata": {},
   "source": [
    "# Functions and Modules\n",
    "\n",
    "## Practice Exercises\n"
   ]
  },
  {
   "cell_type": "markdown",
   "id": "bc581365",
   "metadata": {},
   "source": [
    "### Define and call a function"
   ]
  },
  {
   "cell_type": "markdown",
   "id": "e1bf8c9b",
   "metadata": {},
   "source": [
    "A `function` is a reusable block of code that performs a specific task.\n",
    "\n",
    "We define a `function` once, and then we can call (use) it many times."
   ]
  },
  {
   "cell_type": "code",
   "execution_count": 8,
   "id": "feb3775f",
   "metadata": {},
   "outputs": [],
   "source": [
    "def function_name(parameters):\n",
    "    # code block\n",
    "    return result  # (optional)\n"
   ]
  },
  {
   "cell_type": "code",
   "execution_count": 9,
   "id": "97bf4f5e",
   "metadata": {},
   "outputs": [
    {
     "name": "stdout",
     "output_type": "stream",
     "text": [
      "Hello, Alice\n",
      "Hello, Bob\n"
     ]
    }
   ],
   "source": [
    "def greet(name):\n",
    "    print(\"Hello, \" + name)\n",
    "\n",
    "\n",
    "greet(\"Alice\")\n",
    "greet(\"Bob\")"
   ]
  },
  {
   "cell_type": "markdown",
   "id": "f7678213",
   "metadata": {},
   "source": [
    "### Use the math module"
   ]
  },
  {
   "cell_type": "code",
   "execution_count": null,
   "id": "6c1bc2bf",
   "metadata": {},
   "outputs": [],
   "source": [
    "import math\n",
    "print(math.sqrt(16))\n",
    "print(math.factorial(5))"
   ]
  },
  {
   "cell_type": "markdown",
   "id": "80fd59ee",
   "metadata": {},
   "source": [
    "### Generate a random number"
   ]
  },
  {
   "cell_type": "code",
   "execution_count": 13,
   "id": "90d9df63",
   "metadata": {},
   "outputs": [
    {
     "name": "stdout",
     "output_type": "stream",
     "text": [
      "27\n",
      "apple\n"
     ]
    }
   ],
   "source": [
    "import random\n",
    "print(random.randint(1, 100))\n",
    "print(random.choice([\"apple\", \"banana\", \"cherry\"]))"
   ]
  },
  {
   "cell_type": "markdown",
   "id": "d14a46b4",
   "metadata": {},
   "source": [
    "### Function with return value"
   ]
  },
  {
   "cell_type": "code",
   "execution_count": null,
   "id": "f1ab1d89",
   "metadata": {},
   "outputs": [],
   "source": [
    "def square(n):\n",
    "    return n * n\n",
    "print(square(5))"
   ]
  },
  {
   "cell_type": "markdown",
   "id": "7a96f622",
   "metadata": {},
   "source": [
    "### Function with multiple arguments"
   ]
  },
  {
   "cell_type": "code",
   "execution_count": 16,
   "id": "e1b21b83",
   "metadata": {},
   "outputs": [
    {
     "name": "stdout",
     "output_type": "stream",
     "text": [
      "10\n"
     ]
    }
   ],
   "source": [
    "#First, you need to define the function so that it can be callable. \n",
    "def add(a, b):\n",
    "    return a + b\n",
    "print(add(3, 7))"
   ]
  },
  {
   "cell_type": "code",
   "execution_count": 18,
   "id": "7a3eff5b",
   "metadata": {},
   "outputs": [
    {
     "name": "stdout",
     "output_type": "stream",
     "text": [
      "7\n"
     ]
    }
   ],
   "source": [
    "#store the output of a function and use it in another one as input\n",
    "result = add(3, 4)\n",
    "print(result)  # Output: 7\n"
   ]
  },
  {
   "cell_type": "markdown",
   "id": "da2c3d19",
   "metadata": {},
   "source": [
    "`Functions` can be with `default parameters`:"
   ]
  },
  {
   "cell_type": "code",
   "execution_count": 20,
   "id": "b659edf8",
   "metadata": {},
   "outputs": [
    {
     "name": "stdout",
     "output_type": "stream",
     "text": [
      "Hi, dear!\n"
     ]
    }
   ],
   "source": [
    "def greet(name=\"dear\"):\n",
    "    print(f\"Hi, {name}!\")\n",
    "\n",
    "greet()"
   ]
  },
  {
   "cell_type": "code",
   "execution_count": 21,
   "id": "6ee6f8ba",
   "metadata": {},
   "outputs": [
    {
     "name": "stdout",
     "output_type": "stream",
     "text": [
      "Hi, Alice!\n"
     ]
    }
   ],
   "source": [
    "greet(\"Alice\")"
   ]
  },
  {
   "cell_type": "markdown",
   "id": "7548d179",
   "metadata": {},
   "source": [
    "Functions with conditions inside:"
   ]
  },
  {
   "cell_type": "code",
   "execution_count": 22,
   "id": "a55163ca",
   "metadata": {},
   "outputs": [],
   "source": [
    "def is_even(number):\n",
    "    if number % 2 == 0:\n",
    "        return True\n",
    "    else:\n",
    "        return False\n"
   ]
  },
  {
   "cell_type": "code",
   "execution_count": 24,
   "id": "150a32a3",
   "metadata": {},
   "outputs": [
    {
     "name": "stdout",
     "output_type": "stream",
     "text": [
      "True\n",
      "False\n"
     ]
    }
   ],
   "source": [
    "print(is_even(4))  # True\n",
    "print(is_even(5))  # False"
   ]
  },
  {
   "cell_type": "markdown",
   "id": "87c508ed",
   "metadata": {},
   "source": [
    "Functions can return more than one values:"
   ]
  },
  {
   "cell_type": "code",
   "execution_count": 25,
   "id": "efa753f8",
   "metadata": {},
   "outputs": [],
   "source": [
    "def get_min_max(numbers):\n",
    "    return min(numbers), max(numbers)\n"
   ]
  },
  {
   "cell_type": "code",
   "execution_count": 26,
   "id": "0200a859",
   "metadata": {},
   "outputs": [
    {
     "name": "stdout",
     "output_type": "stream",
     "text": [
      "Lowest: 1 Highest: 8\n"
     ]
    }
   ],
   "source": [
    "low, high = get_min_max([2, 8, 5, 1])\n",
    "print(\"Lowest:\", low, \"Highest:\", high)\n"
   ]
  },
  {
   "cell_type": "markdown",
   "id": "7856e997",
   "metadata": {},
   "source": [
    "Functions can contain loops:"
   ]
  },
  {
   "cell_type": "markdown",
   "id": "69722ff7",
   "metadata": {},
   "source": []
  },
  {
   "cell_type": "code",
   "execution_count": 27,
   "id": "d3b8e7fb",
   "metadata": {},
   "outputs": [],
   "source": [
    "def count_down(n):\n",
    "    while n > 0:\n",
    "        print(n)\n",
    "        n -= 1\n",
    "    print(\"Done!\")\n"
   ]
  },
  {
   "cell_type": "code",
   "execution_count": 28,
   "id": "18281ef9",
   "metadata": {},
   "outputs": [
    {
     "name": "stdout",
     "output_type": "stream",
     "text": [
      "3\n",
      "2\n",
      "1\n",
      "Done!\n"
     ]
    }
   ],
   "source": [
    "count_down(3)\n"
   ]
  },
  {
   "cell_type": "code",
   "execution_count": null,
   "id": "509c0b14",
   "metadata": {},
   "outputs": [
    {
     "name": "stdout",
     "output_type": "stream",
     "text": [
      "7\n",
      "7\n"
     ]
    }
   ],
   "source": [
    "sequence = \"ATGTATGCCCGTATG\"\n",
    "\n",
    "def cnt_purines(seq):\n",
    "    pur_cnt = 0\n",
    "    i=0\n",
    "    while i < len(seq):\n",
    "        if seq[i] == \"A\" or seq[i] == \"G\":\n",
    "            pur_cnt += 1\n",
    "        \n",
    "        i += 1\n",
    "    return pur_cnt\n",
    "\n",
    "\n",
    "y = cnt_purines(sequence)\n",
    "\n",
    "print(y)\n",
    "\n",
    "\n",
    "def count_purines(input_sequence):\n",
    "    c_A = input_sequence.count('A')\n",
    "    c_G = input_sequence.count('G')\n",
    "    return c_A + c_G\n",
    "\n",
    "x = count_purines(sequence)\n",
    "print(x)\n",
    "\n",
    "\n",
    "\n"
   ]
  },
  {
   "cell_type": "markdown",
   "id": "38b3330f",
   "metadata": {},
   "source": [
    "#### Modules"
   ]
  },
  {
   "cell_type": "markdown",
   "id": "802192b3",
   "metadata": {},
   "source": [
    "A module is a file containing Python code — it can include functions, variables, classes, or even other imports."
   ]
  },
  {
   "cell_type": "code",
   "execution_count": 29,
   "id": "4cf26ce1",
   "metadata": {},
   "outputs": [],
   "source": [
    "#Let's say you have a file called math_utils.py\n",
    "def add(a, b):\n",
    "    return a + b\n",
    "\n",
    "def subtract(a, b):\n",
    "    return a - b\n"
   ]
  },
  {
   "cell_type": "code",
   "execution_count": 30,
   "id": "240e5d39",
   "metadata": {},
   "outputs": [
    {
     "ename": "ModuleNotFoundError",
     "evalue": "No module named 'math_utils'",
     "output_type": "error",
     "traceback": [
      "\u001b[31m---------------------------------------------------------------------------\u001b[39m",
      "\u001b[31mModuleNotFoundError\u001b[39m                       Traceback (most recent call last)",
      "\u001b[36mCell\u001b[39m\u001b[36m \u001b[39m\u001b[32mIn[30]\u001b[39m\u001b[32m, line 2\u001b[39m\n\u001b[32m      1\u001b[39m \u001b[38;5;66;03m#In another python file, you can use that module:\u001b[39;00m\n\u001b[32m----> \u001b[39m\u001b[32m2\u001b[39m \u001b[38;5;28;01mimport\u001b[39;00m\u001b[38;5;250m \u001b[39m\u001b[34;01mmath_utils\u001b[39;00m\n\u001b[32m      4\u001b[39m \u001b[38;5;28mprint\u001b[39m(math_utils.add(\u001b[32m2\u001b[39m, \u001b[32m3\u001b[39m))      \u001b[38;5;66;03m# Output: 5\u001b[39;00m\n\u001b[32m      5\u001b[39m \u001b[38;5;28mprint\u001b[39m(math_utils.subtract(\u001b[32m5\u001b[39m, \u001b[32m2\u001b[39m)) \u001b[38;5;66;03m# Output: 3\u001b[39;00m\n",
      "\u001b[31mModuleNotFoundError\u001b[39m: No module named 'math_utils'"
     ]
    }
   ],
   "source": [
    "#In another python file, you can use that module:\n",
    "import math_utils\n",
    "\n",
    "print(math_utils.add(2, 3))      # Output: 5\n",
    "print(math_utils.subtract(5, 2)) # Output: 3\n"
   ]
  }
 ],
 "metadata": {
  "kernelspec": {
   "display_name": ".venv",
   "language": "python",
   "name": "python3"
  },
  "language_info": {
   "codemirror_mode": {
    "name": "ipython",
    "version": 3
   },
   "file_extension": ".py",
   "mimetype": "text/x-python",
   "name": "python",
   "nbconvert_exporter": "python",
   "pygments_lexer": "ipython3",
   "version": "3.12.0"
  }
 },
 "nbformat": 4,
 "nbformat_minor": 5
}
