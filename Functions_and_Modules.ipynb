{
 "cells": [
  {
   "cell_type": "markdown",
   "id": "aa2a19e6",
   "metadata": {},
   "source": [
    "# Functions and Modules\n",
    "\n",
    "## Practice Exercises\n"
   ]
  },
  {
   "cell_type": "markdown",
   "id": "abfd4374",
   "metadata": {},
   "source": [
    "### Define and call a function"
   ]
  },
  {
   "cell_type": "code",
   "execution_count": null,
   "id": "b5dbc26a",
   "metadata": {},
   "outputs": [],
   "source": [
    "def greet(name):\n",
    "    print(\"Hello, \" + name)\n",
    "greet(\"Alice\")"
   ]
  },
  {
   "cell_type": "markdown",
   "id": "c8e33b03",
   "metadata": {},
   "source": [
    "### Use the math module"
   ]
  },
  {
   "cell_type": "code",
   "execution_count": null,
   "id": "51a2bd1b",
   "metadata": {},
   "outputs": [],
   "source": [
    "import math\n",
    "print(math.sqrt(16))"
   ]
  },
  {
   "cell_type": "markdown",
   "id": "d102c22e",
   "metadata": {},
   "source": [
    "### Generate a random number"
   ]
  },
  {
   "cell_type": "code",
   "execution_count": null,
   "id": "5b375e49",
   "metadata": {},
   "outputs": [],
   "source": [
    "import random\n",
    "print(random.randint(1, 100))"
   ]
  }
 ],
 "metadata": {},
 "nbformat": 4,
 "nbformat_minor": 5
}
