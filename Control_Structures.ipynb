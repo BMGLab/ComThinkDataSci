{
 "cells": [
  {
   "cell_type": "markdown",
   "id": "df35b537",
   "metadata": {},
   "source": [
    "# Control Structures\n",
    "\n",
    "## Practice Exercises\n"
   ]
  },
  {
   "cell_type": "markdown",
   "id": "224ebd9e",
   "metadata": {},
   "source": [
    "### Check if a number is even or odd"
   ]
  },
  {
   "cell_type": "code",
   "execution_count": null,
   "id": "5897beb3",
   "metadata": {},
   "outputs": [],
   "source": [
    "num = int(input(\"Enter a number: \"))\n",
    "if num % 2 == 0:\n",
    "    print(\"Even\")\n",
    "else:\n",
    "    print(\"Odd\")"
   ]
  },
  {
   "cell_type": "markdown",
   "id": "4fdbb263",
   "metadata": {},
   "source": [
    "### Loop through a range"
   ]
  },
  {
   "cell_type": "code",
   "execution_count": null,
   "id": "926bd100",
   "metadata": {},
   "outputs": [],
   "source": [
    "for i in range(5):\n",
    "    print(i)"
   ]
  },
  {
   "cell_type": "markdown",
   "id": "2f2f848e",
   "metadata": {},
   "source": [
    "### Use break in a loop"
   ]
  },
  {
   "cell_type": "code",
   "execution_count": null,
   "id": "c4369257",
   "metadata": {},
   "outputs": [],
   "source": [
    "for i in range(10):\n",
    "    if i == 5:\n",
    "        break\n",
    "    print(i)"
   ]
  }
 ],
 "metadata": {},
 "nbformat": 4,
 "nbformat_minor": 5
}
