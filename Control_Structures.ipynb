{
 "cells": [
  {
   "cell_type": "markdown",
   "id": "61f896b7",
   "metadata": {},
   "source": [
    "# Control Structures\n",
    "\n",
    "## Practice Exercises\n"
   ]
  },
  {
   "cell_type": "markdown",
   "id": "7e73315d",
   "metadata": {},
   "source": [
    "### Check if a number is even or odd"
   ]
  },
  {
   "cell_type": "code",
   "execution_count": null,
   "id": "00044f62",
   "metadata": {},
   "outputs": [],
   "source": [
    "num = int(input(\"Enter a number: \"))\n",
    "if num % 2 == 0:\n",
    "    print(\"Even\")\n",
    "else:\n",
    "    print(\"Odd\")"
   ]
  },
  {
   "cell_type": "markdown",
   "id": "4d647b0e",
   "metadata": {},
   "source": [
    "### Loop through a range"
   ]
  },
  {
   "cell_type": "code",
   "execution_count": null,
   "id": "09088ac4",
   "metadata": {},
   "outputs": [],
   "source": [
    "for i in range(5):\n",
    "    print(i, end=\" \")"
   ]
  },
  {
   "cell_type": "markdown",
   "id": "d709cf6f",
   "metadata": {},
   "source": [
    "### Use break in a loop"
   ]
  },
  {
   "cell_type": "code",
   "execution_count": null,
   "id": "0f9e193f",
   "metadata": {},
   "outputs": [],
   "source": [
    "for i in range(10):\n",
    "    if i == 5:\n",
    "        break\n",
    "    print(i)"
   ]
  },
  {
   "cell_type": "markdown",
   "id": "d3640c98",
   "metadata": {},
   "source": [
    "### Use continue in a loop"
   ]
  },
  {
   "cell_type": "code",
   "execution_count": null,
   "id": "74410ba9",
   "metadata": {},
   "outputs": [],
   "source": [
    "for i in range(5):\n",
    "    if i == 2:\n",
    "        continue\n",
    "    print(i)"
   ]
  },
  {
   "cell_type": "markdown",
   "id": "abcfbe52",
   "metadata": {},
   "source": [
    "### Nested loops"
   ]
  },
  {
   "cell_type": "code",
   "execution_count": null,
   "id": "d2861d64",
   "metadata": {},
   "outputs": [],
   "source": [
    "for i in range(3):\n",
    "    for j in range(2):\n",
    "        print(f\"i={i}, j={j}\")"
   ]
  }
 ],
 "metadata": {},
 "nbformat": 4,
 "nbformat_minor": 5
}
