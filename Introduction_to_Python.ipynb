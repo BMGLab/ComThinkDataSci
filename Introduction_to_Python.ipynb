{
 "cells": [
  {
   "cell_type": "markdown",
   "id": "db9a20aa",
   "metadata": {},
   "source": [
    "# Introduction to Python\n",
    "\n",
    "## Practice Exercises\n"
   ]
  },
  {
   "cell_type": "markdown",
   "id": "b5e7a0e3",
   "metadata": {},
   "source": [
    "### Print a greeting message"
   ]
  },
  {
   "cell_type": "code",
   "execution_count": 1,
   "id": "c2cbc480",
   "metadata": {},
   "outputs": [
    {
     "name": "stdout",
     "output_type": "stream",
     "text": [
      "Hello, Python!\n",
      "Welcome to programming!\n"
     ]
    }
   ],
   "source": [
    "print(\"Hello, Python!\")\n",
    "print(\"Welcome to programming!\")"
   ]
  },
  {
   "cell_type": "markdown",
   "id": "4650d38e",
   "metadata": {},
   "source": [
    "### Check Python version"
   ]
  },
  {
   "cell_type": "code",
   "execution_count": 2,
   "id": "c569b293",
   "metadata": {},
   "outputs": [
    {
     "name": "stdout",
     "output_type": "stream",
     "text": [
      "Python Version: 3.12.0 (v3.12.0:0fb18b02c8, Oct  2 2023, 09:45:56) [Clang 13.0.0 (clang-1300.0.29.30)]\n"
     ]
    }
   ],
   "source": [
    "import sys\n",
    "print(\"Python Version:\", sys.version)"
   ]
  },
  {
   "cell_type": "markdown",
   "id": "ba78d440",
   "metadata": {},
   "source": [
    "### Write a simple comment"
   ]
  },
  {
   "cell_type": "code",
   "execution_count": 3,
   "id": "d9b72a84",
   "metadata": {},
   "outputs": [],
   "source": [
    "# This is a comment in Python\n",
    "# Comments are ignored by the interpreter"
   ]
  },
  {
   "cell_type": "markdown",
   "id": "b654927e",
   "metadata": {},
   "source": [
    "### Multi-line comment"
   ]
  },
  {
   "cell_type": "code",
   "execution_count": 4,
   "id": "00e1f697",
   "metadata": {},
   "outputs": [
    {
     "data": {
      "text/plain": [
       "'This is a multi-line comment.\\nIt spans multiple lines.'"
      ]
     },
     "execution_count": 4,
     "metadata": {},
     "output_type": "execute_result"
    }
   ],
   "source": [
    "\"\"\"This is a multi-line comment.\n",
    "It spans multiple lines.\"\"\""
   ]
  },
  {
   "cell_type": "markdown",
   "id": "a37fe6e9",
   "metadata": {},
   "source": [
    "### Using escape characters"
   ]
  },
  {
   "cell_type": "code",
   "execution_count": 5,
   "id": "0c94a8d7",
   "metadata": {},
   "outputs": [
    {
     "name": "stdout",
     "output_type": "stream",
     "text": [
      "Hello\n",
      "World\n",
      "Python\tProgramming\n"
     ]
    }
   ],
   "source": [
    "print(\"Hello\\nWorld\")\n",
    "print(\"Python\\tProgramming\")"
   ]
  },
  {
   "cell_type": "code",
   "execution_count": 7,
   "id": "bcd92b27",
   "metadata": {},
   "outputs": [
    {
     "name": "stdout",
     "output_type": "stream",
     "text": [
      "14\n"
     ]
    }
   ],
   "source": [
    "a=5\n",
    "b=9\n",
    "print(a+b)"
   ]
  },
  {
   "cell_type": "code",
   "execution_count": 8,
   "id": "e938eeca",
   "metadata": {},
   "outputs": [
    {
     "name": "stdout",
     "output_type": "stream",
     "text": [
      "Boston\n"
     ]
    }
   ],
   "source": [
    "a = \"Boston\"\n",
    "print(a)"
   ]
  },
  {
   "cell_type": "code",
   "execution_count": 9,
   "id": "19370286",
   "metadata": {},
   "outputs": [
    {
     "name": "stdout",
     "output_type": "stream",
     "text": [
      "10\n"
     ]
    }
   ],
   "source": [
    "a= 5\n",
    "b= -4\n",
    "c= 30\n",
    "print(a*b+c)"
   ]
  },
  {
   "attachments": {},
   "cell_type": "markdown",
   "id": "14d1c23b",
   "metadata": {},
   "source": [
    "The meaning of the = symbol here is different from how it is used in mathematics. In mathematics, this\n",
    "symbol provides equality, but since there is no symmetry in Python, an expression like 5 = x would be incorrect."
   ]
  },
  {
   "cell_type": "code",
   "execution_count": 10,
   "id": "358c3a2d",
   "metadata": {},
   "outputs": [
    {
     "ename": "SyntaxError",
     "evalue": "cannot assign to literal here. Maybe you meant '==' instead of '='? (2678277015.py, line 1)",
     "output_type": "error",
     "traceback": [
      "\u001b[0;36m  Cell \u001b[0;32mIn[10], line 1\u001b[0;36m\u001b[0m\n\u001b[0;31m    5=x\u001b[0m\n\u001b[0m    ^\u001b[0m\n\u001b[0;31mSyntaxError\u001b[0m\u001b[0;31m:\u001b[0m cannot assign to literal here. Maybe you meant '==' instead of '='?\n"
     ]
    }
   ],
   "source": [
    "5 = x\n",
    "print(x)"
   ]
  },
  {
   "attachments": {},
   "cell_type": "markdown",
   "id": "61a5b74e",
   "metadata": {},
   "source": [
    "Python can use abbreviations when using operators. For example, the expression x= x + 5 can be\n",
    "abbreviated as x + = 5. This expression means “Increase x by 5.”"
   ]
  },
  {
   "cell_type": "code",
   "execution_count": 22,
   "id": "bb9ea1c2",
   "metadata": {},
   "outputs": [
    {
     "name": "stdout",
     "output_type": "stream",
     "text": [
      "12\n"
     ]
    }
   ],
   "source": [
    "x = 5\n",
    "x += 7 # has the same meaning as x=x+7.\n",
    "print(x)"
   ]
  },
  {
   "cell_type": "code",
   "execution_count": 23,
   "id": "f4bd5553",
   "metadata": {},
   "outputs": [
    {
     "name": "stdout",
     "output_type": "stream",
     "text": [
      "8\n"
     ]
    }
   ],
   "source": [
    "x -= 4  # has the same meaning as x=x-4\n",
    "print(x)"
   ]
  },
  {
   "cell_type": "code",
   "execution_count": 24,
   "id": "9d2efcb1",
   "metadata": {},
   "outputs": [
    {
     "name": "stdout",
     "output_type": "stream",
     "text": [
      "2\n"
     ]
    }
   ],
   "source": [
    "x //= 3 #x=x//3 means the same thing\n",
    "print(x)"
   ]
  },
  {
   "cell_type": "code",
   "execution_count": 25,
   "id": "21ab563b",
   "metadata": {},
   "outputs": [
    {
     "name": "stdout",
     "output_type": "stream",
     "text": [
      "16\n"
     ]
    }
   ],
   "source": [
    "x *= 8 #has the same meaning as x=x*8. \n",
    "print(x) \n"
   ]
  },
  {
   "cell_type": "code",
   "execution_count": 26,
   "id": "be4ed3f3",
   "metadata": {},
   "outputs": [
    {
     "name": "stdout",
     "output_type": "stream",
     "text": [
      "4\n"
     ]
    }
   ],
   "source": [
    "x %= 6 #x=x%6 means the same thing. \n",
    "print(x) \n"
   ]
  },
  {
   "cell_type": "code",
   "execution_count": 27,
   "id": "cc148362",
   "metadata": {},
   "outputs": [
    {
     "name": "stdout",
     "output_type": "stream",
     "text": [
      "64\n"
     ]
    }
   ],
   "source": [
    "x **= 3 #x=x**is the same as 3. \n",
    "print(x) \n"
   ]
  },
  {
   "cell_type": "code",
   "execution_count": null,
   "id": "a38f3ea5",
   "metadata": {},
   "outputs": [],
   "source": []
  }
 ],
 "metadata": {
  "kernelspec": {
   "display_name": "Python 3",
   "language": "python",
   "name": "python3"
  },
  "language_info": {
   "codemirror_mode": {
    "name": "ipython",
    "version": 3
   },
   "file_extension": ".py",
   "mimetype": "text/x-python",
   "name": "python",
   "nbconvert_exporter": "python",
   "pygments_lexer": "ipython3",
   "version": "3.12.0"
  },
  "vscode": {
   "interpreter": {
    "hash": "aee8b7b246df8f9039afb4144a1f6fd8d2ca17a180786b69acc140d282b71a49"
   }
  }
 },
 "nbformat": 4,
 "nbformat_minor": 5
}
