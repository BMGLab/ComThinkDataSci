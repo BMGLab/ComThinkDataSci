{
 "cells": [
  {
   "cell_type": "markdown",
   "id": "db9a20aa",
   "metadata": {},
   "source": [
    "# Introduction to Python\n",
    "\n",
    "## Practice Exercises\n"
   ]
  },
  {
   "cell_type": "markdown",
   "id": "b5e7a0e3",
   "metadata": {},
   "source": [
    "### Print a greeting message"
   ]
  },
  {
   "cell_type": "code",
   "execution_count": null,
   "id": "c2cbc480",
   "metadata": {},
   "outputs": [],
   "source": [
    "print(\"Hello, Python!\")\n",
    "print(\"Welcome to programming!\")"
   ]
  },
  {
   "cell_type": "markdown",
   "id": "4650d38e",
   "metadata": {},
   "source": [
    "### Check Python version"
   ]
  },
  {
   "cell_type": "code",
   "execution_count": null,
   "id": "c569b293",
   "metadata": {},
   "outputs": [],
   "source": [
    "import sys\n",
    "print(\"Python Version:\", sys.version)"
   ]
  },
  {
   "cell_type": "markdown",
   "id": "ba78d440",
   "metadata": {},
   "source": [
    "### Write a simple comment"
   ]
  },
  {
   "cell_type": "code",
   "execution_count": null,
   "id": "d9b72a84",
   "metadata": {},
   "outputs": [],
   "source": [
    "# This is a comment in Python\n",
    "# Comments are ignored by the interpreter"
   ]
  },
  {
   "cell_type": "markdown",
   "id": "b654927e",
   "metadata": {},
   "source": [
    "### Multi-line comment"
   ]
  },
  {
   "cell_type": "code",
   "execution_count": null,
   "id": "00e1f697",
   "metadata": {},
   "outputs": [],
   "source": [
    "\"\"\"This is a multi-line comment.\n",
    "It spans multiple lines.\"\"\""
   ]
  },
  {
   "cell_type": "markdown",
   "id": "a37fe6e9",
   "metadata": {},
   "source": [
    "### Using escape characters"
   ]
  },
  {
   "cell_type": "code",
   "execution_count": null,
   "id": "0c94a8d7",
   "metadata": {},
   "outputs": [],
   "source": [
    "print(\"Hello\\nWorld\")\n",
    "print(\"Python\\tProgramming\")"
   ]
  }
 ],
 "metadata": {},
 "nbformat": 4,
 "nbformat_minor": 5
}
