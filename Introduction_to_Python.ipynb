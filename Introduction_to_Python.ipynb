{
 "cells": [
  {
   "cell_type": "markdown",
   "id": "82a70fcf",
   "metadata": {},
   "source": [
    "# Introduction to Python\n",
    "\n",
    "## Practice Exercises\n"
   ]
  },
  {
   "cell_type": "markdown",
   "id": "103ca93d",
   "metadata": {},
   "source": [
    "### Print a greeting message"
   ]
  },
  {
   "cell_type": "code",
   "execution_count": null,
   "id": "87cce6bf",
   "metadata": {},
   "outputs": [],
   "source": [
    "print(\"Hello, Python!\")"
   ]
  },
  {
   "cell_type": "markdown",
   "id": "aa65d769",
   "metadata": {},
   "source": [
    "### Check Python version"
   ]
  },
  {
   "cell_type": "code",
   "execution_count": null,
   "id": "50162e6d",
   "metadata": {},
   "outputs": [],
   "source": [
    "import sys\n",
    "print(sys.version)"
   ]
  },
  {
   "cell_type": "markdown",
   "id": "db8cfaa4",
   "metadata": {},
   "source": [
    "### Write a simple comment"
   ]
  },
  {
   "cell_type": "code",
   "execution_count": null,
   "id": "bf22202b",
   "metadata": {},
   "outputs": [],
   "source": [
    "# This is a comment in Python"
   ]
  }
 ],
 "metadata": {},
 "nbformat": 4,
 "nbformat_minor": 5
}
