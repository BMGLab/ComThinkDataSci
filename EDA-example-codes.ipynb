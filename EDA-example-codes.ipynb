{
 "cells": [
  {
   "cell_type": "code",
   "execution_count": 1,
   "metadata": {},
   "outputs": [
    {
     "name": "stderr",
     "output_type": "stream",
     "text": [
      "<>:7: SyntaxWarning: invalid escape sequence '\\s'\n",
      "<>:7: SyntaxWarning: invalid escape sequence '\\s'\n",
      "/var/folders/cd/fyn3h6dn31jb9cq7w2h7nrmh0000gn/T/ipykernel_55275/1910437811.py:7: SyntaxWarning: invalid escape sequence '\\s'\n",
      "  sep=\",\\s*\",\n"
     ]
    },
    {
     "name": "stdout",
     "output_type": "stream",
     "text": [
      "   0                 1       2          3   4                   5   \\\n",
      "0  39         State-gov   77516  Bachelors  13       Never-married   \n",
      "1  50  Self-emp-not-inc   83311  Bachelors  13  Married-civ-spouse   \n",
      "2  38           Private  215646    HS-grad   9            Divorced   \n",
      "3  53           Private  234721       11th   7  Married-civ-spouse   \n",
      "4  28           Private  338409  Bachelors  13  Married-civ-spouse   \n",
      "\n",
      "                  6              7      8       9     10  11  12  \\\n",
      "0       Adm-clerical  Not-in-family  White    Male  2174   0  40   \n",
      "1    Exec-managerial        Husband  White    Male     0   0  13   \n",
      "2  Handlers-cleaners  Not-in-family  White    Male     0   0  40   \n",
      "3  Handlers-cleaners        Husband  Black    Male     0   0  40   \n",
      "4     Prof-specialty           Wife  Black  Female     0   0  40   \n",
      "\n",
      "              13     14  \n",
      "0  United-States  <=50K  \n",
      "1  United-States  <=50K  \n",
      "2  United-States  <=50K  \n",
      "3  United-States  <=50K  \n",
      "4           Cuba  <=50K  \n"
     ]
    }
   ],
   "source": [
    "import pandas as pd\n",
    "\n",
    "# Load example dataset\n",
    "df = pd.read_csv(\n",
    "    'https://archive.ics.uci.edu/ml/machine-learning-databases/adult/adult.data',\n",
    "    header=None,\n",
    "    sep=\",\\s*\",\n",
    "    engine='python'\n",
    ")\n",
    "\n",
    "\n",
    "# Print the first few rows of the dataset\n",
    "print(df.head())\n"
   ]
  },
  {
   "cell_type": "code",
   "execution_count": 2,
   "metadata": {},
   "outputs": [
    {
     "name": "stdout",
     "output_type": "stream",
     "text": [
      "(32561, 15)\n",
      "country\n",
      "?                     583\n",
      "Cambodia               19\n",
      "Canada                121\n",
      "China                  75\n",
      "Columbia               59\n",
      "Cuba                   95\n",
      "Dominican-Republic     70\n",
      "Ecuador                28\n",
      "El-Salvador           106\n",
      "England                90\n",
      "France                 29\n",
      "Germany               137\n",
      "Greece                 29\n",
      "Guatemala              64\n",
      "Haiti                  44\n",
      "Holand-Netherlands      1\n",
      "Honduras               13\n",
      "Hong                   20\n",
      "Hungary                13\n",
      "India                 100\n",
      "dtype: int64\n"
     ]
    }
   ],
   "source": [
    "#Print the data shape, number of rows and columns\n",
    "print(df.shape)\n",
    "\n",
    "df.columns = ['age', 'type_employer', 'fnlwgt', \n",
    "              'education', 'education_num', 'marital', \n",
    "              'occupation',' relationship', 'race', \n",
    "              'sex', 'capital_gain', 'capital_loss', \n",
    "              'hr_per_week', 'country', 'income']\n",
    "\n",
    "counts = df.groupby('country').size()\n",
    "\n",
    "print(counts.head(20))\n"
   ]
  },
  {
   "cell_type": "code",
   "execution_count": 3,
   "metadata": {},
   "outputs": [
    {
     "name": "stdout",
     "output_type": "stream",
     "text": [
      "The rate of people with high income is:  24 %.\n",
      "The rate of men with high income is:  30 %.\n",
      "The rate of women with high income is:  10 %.\n"
     ]
    }
   ],
   "source": [
    "ml = df[df['sex'] == 'Male']\n",
    "\n",
    "ml1 = df[(df['sex'] == 'Male') & (df['income'] == '>50K') ]\n",
    "\n",
    "fm = df[(df['sex'] == 'Female')]\n",
    "\n",
    "fm1 = df[(df['sex'] == 'Female') & (df['income'] == '>50K')]\n",
    "\n",
    "\n",
    "df1 = df[(df['income'] =='>50K')]\n",
    "\n",
    "print('The rate of people with high income is: ', int(len(df1)/float(len(df))*100), '%.')\n",
    "print('The rate of men with high income is: ', int(len(ml1)/float(len(ml))*100), '%.')\n",
    "print('The rate of women with high income is: ', int(len(fm1)/float(len(fm))*100), '%.')"
   ]
  },
  {
   "cell_type": "code",
   "execution_count": 4,
   "metadata": {},
   "outputs": [
    {
     "name": "stdout",
     "output_type": "stream",
     "text": [
      "The average age of men is:  39.43354749885268\n",
      "The average age of women is:  36.85823043357163\n",
      "The average age of high-income men is:  44.62578805163614\n",
      "The average age of high-income women is:  42.125530110262936\n"
     ]
    }
   ],
   "source": [
    "print('The average age of men is: ', \n",
    "    ml['age'].mean())\n",
    "      \n",
    "print('The average age of women is: ',\n",
    "    fm['age'].mean())\n",
    "\n",
    "print('The average age of high-income men is: ',\n",
    "    ml1['age'].mean())\n",
    "\n",
    "print('The average age of high-income women is: ',\n",
    "    fm1['age'].mean())"
   ]
  },
  {
   "cell_type": "code",
   "execution_count": 5,
   "metadata": {},
   "outputs": [
    {
     "name": "stdout",
     "output_type": "stream",
     "text": [
      "Statistics of age for men: mu: 39.43354749885268 var: 178.77375174529985 std: 13.370630192526448\n",
      "Statistics of age for women: mu: 36.85823043357163 var: 196.3837063948063 std: 14.013697099438332\n"
     ]
    }
   ],
   "source": [
    "ml_mu = ml['age'].mean()\n",
    "fm_mu = fm['age'].mean()\n",
    "ml_var = ml['age'].var()\n",
    "fm_var = fm['age'].var()\n",
    "ml_std = ml['age'].std()\n",
    "fm_std = fm['age'].std()\n",
    "\n",
    "print('Statistics of age for men: mu:',\n",
    "    ml_mu, 'var:', ml_var, 'std:', ml_std)\n",
    "\n",
    "print('Statistics of age for women: mu:',\n",
    "    fm_mu, 'var:', fm_var, 'std:', fm_std)"
   ]
  },
  {
   "cell_type": "code",
   "execution_count": 6,
   "metadata": {},
   "outputs": [
    {
     "name": "stdout",
     "output_type": "stream",
     "text": [
      "Median age per men and women:  38.0 35.0\n",
      "Median age per men and women with high-income:  44.0 41.0\n"
     ]
    }
   ],
   "source": [
    "ml_median = ml['age'].median()\n",
    "fm_median = fm['age'].median()\n",
    "print(\"Median age per men and women: \", ml_median, fm_median)\n",
    "\n",
    "ml_median_age = ml1['age'].median()\n",
    "fm_median_age = fm1['age'].median()\n",
    "print(\"Median age per men and women with high-income: \", ml_median_age, fm_median_age)"
   ]
  },
  {
   "cell_type": "code",
   "execution_count": 7,
   "metadata": {},
   "outputs": [],
   "source": [
    "#%pip install matplotlib"
   ]
  },
  {
   "cell_type": "code",
   "execution_count": 8,
   "metadata": {},
   "outputs": [
    {
     "data": {
      "text/plain": [
       "<Axes: >"
      ]
     },
     "execution_count": 8,
     "metadata": {},
     "output_type": "execute_result"
    },
    {
     "data": {
      "image/png": "[encoded data removed]",
      "text/plain": [
       "<Figure size 640x480 with 1 Axes>"
      ]
     },
     "metadata": {},
     "output_type": "display_data"
    }
   ],
   "source": [
    "ml_age = ml['age']\n",
    "ml_age.hist(density = 0, histtype = 'stepfilled', bins = 20)\n"
   ]
  },
  {
   "cell_type": "code",
   "execution_count": null,
   "metadata": {},
   "outputs": [],
   "source": []
  },
  {
   "cell_type": "code",
   "execution_count": 9,
   "metadata": {},
   "outputs": [
    {
     "data": {
      "text/plain": [
       "<Axes: >"
      ]
     },
     "execution_count": 9,
     "metadata": {},
     "output_type": "execute_result"
    },
    {
     "data": {
      "image/png": "[encoded data removed]",
      "text/plain": [
       "<Figure size 640x480 with 1 Axes>"
      ]
     },
     "metadata": {},
     "output_type": "display_data"
    }
   ],
   "source": [
    "\n",
    "fm_age = fm['age']\n",
    "fm_age.hist(density = 0, histtype = 'stepfilled', bins = 10)\n"
   ]
  },
  {
   "cell_type": "code",
   "execution_count": null,
   "metadata": {},
   "outputs": [],
   "source": [
    "%pip install seaborn"
   ]
  },
  {
   "cell_type": "code",
   "execution_count": 9,
   "metadata": {},
   "outputs": [
    {
     "data": {
      "text/plain": [
       "<Axes: >"
      ]
     },
     "execution_count": 9,
     "metadata": {},
     "output_type": "execute_result"
    },
    {
     "data": {
      "image/png": "[encoded data removed]",
      "text/plain": [
       "<Figure size 432x288 with 1 Axes>"
      ]
     },
     "metadata": {
      "needs_background": "light"
     },
     "output_type": "display_data"
    }
   ],
   "source": [
    "import seaborn as sns\n",
    "\n",
    "fm_age.hist(density = 0, histtype = 'stepfilled', alpha= .5, bins=20)\n",
    "\n",
    "ml_age.hist(density = 0, histtype = 'stepfilled', alpha= .5, color = sns.desaturate(\"indianred\", .75), bins = 10)"
   ]
  },
  {
   "attachments": {},
   "cell_type": "markdown",
   "metadata": {},
   "source": [
    "We can normalize the frequencies of the histogram by dividing/normalizing by n, the number of samples. The normalized histogram is called the Probability Mass Function (PMF)."
   ]
  },
  {
   "cell_type": "code",
   "execution_count": 10,
   "metadata": {},
   "outputs": [
    {
     "data": {
      "text/plain": [
       "<Axes: >"
      ]
     },
     "execution_count": 10,
     "metadata": {},
     "output_type": "execute_result"
    },
    {
     "data": {
      "image/png": "[encoded data removed]",
      "text/plain": [
       "<Figure size 432x288 with 1 Axes>"
      ]
     },
     "metadata": {
      "needs_background": "light"
     },
     "output_type": "display_data"
    }
   ],
   "source": [
    "\n",
    "fm_age.hist(density = 1, histtype = 'stepfilled', alpha= .5, bins=20)\n",
    "\n",
    "ml_age.hist(density = 1, histtype = 'stepfilled', alpha= .5, color = sns.desaturate(\"indianred\", .75), bins = 10)"
   ]
  },
  {
   "cell_type": "code",
   "execution_count": 11,
   "metadata": {},
   "outputs": [
    {
     "data": {
      "text/plain": [
       "<Axes: >"
      ]
     },
     "execution_count": 11,
     "metadata": {},
     "output_type": "execute_result"
    },
    {
     "data": {
      "image/png": "[encoded data removed]",
      "text/plain": [
       "<Figure size 432x288 with 1 Axes>"
      ]
     },
     "metadata": {
      "needs_background": "light"
     },
     "output_type": "display_data"
    }
   ],
   "source": [
    "fm_age.hist(density = 1, histtype = 'step', cumulative=True, linewidth=3.5, bins=20)\n",
    "\n",
    "ml_age.hist(density = 1, histtype = 'step', cumulative=True, linewidth=3.5, color = sns.desaturate(\"indianred\", .75), bins = 20)"
   ]
  },
  {
   "cell_type": "code",
   "execution_count": 30,
   "metadata": {},
   "outputs": [],
   "source": [
    "df2 = df.drop(df.index[(df.income == '>50K\\n') & (df['age'] > df['age'].median() + 35) & (df['age'] > df['age'].median() -15)])\n",
    "#print(df2.head())\n",
    "ml1_age = ml1['age']\n",
    "fm1_age = fm1['age']\n",
    "ml2_age = ml1_age.drop(ml1_age.index[ (ml1_age > df['age'].median() + 35) & (ml1_age > df['age'].median() - 15) ])\n",
    "fm2_age = fm1_age.drop(fm1_age.index[ (fm1_age > df['age'].median() + 35) & (fm1_age > df['age'].median() - 15) ])"
   ]
  },
  {
   "cell_type": "code",
   "execution_count": 31,
   "metadata": {},
   "outputs": [
    {
     "name": "stdout",
     "output_type": "stream",
     "text": [
      "Men statistics:\n",
      "Mean: 44.317982123920615 Std: 10.019749857171412\n",
      "Median: 44.0\n",
      "Min: 19 Max: 72\n",
      "Women statistics:\n",
      "Mean: 41.877028181041844 Std: 10.036441807343714\n",
      "Median: 41.0\n",
      "Min: 19 Max: 72\n"
     ]
    }
   ],
   "source": [
    "mu2ml = ml2_age.mean()\n",
    "std2ml = ml2_age.std()\n",
    "md2ml = ml2_age.median()\n",
    "mu2fm = fm2_age.mean()\n",
    "std2fm = fm2_age.std()\n",
    "md2fm = fm2_age.median()\n",
    "print(\"Men statistics:\")\n",
    "print(\"Mean:\", mu2ml, \"Std:\", std2ml)\n",
    "print(\"Median:\", md2ml)\n",
    "print(\"Min:\", ml2_age.min(), \"Max:\", ml2_age.max())\n",
    "print(\"Women statistics:\")\n",
    "print(\"Mean:\", mu2fm, \"Std:\", std2fm)\n",
    "print(\"Median:\", md2fm)\n",
    "print(\"Min:\", fm2_age.min(), \"Max:\", fm2_age.max())\n"
   ]
  },
  {
   "cell_type": "code",
   "execution_count": null,
   "metadata": {},
   "outputs": [],
   "source": [
    "df.to_csv(\"data/df.csv\")"
   ]
  },
  {
   "cell_type": "code",
   "execution_count": null,
   "metadata": {},
   "outputs": [],
   "source": []
  }
 ],
 "metadata": {
  "kernelspec": {
   "display_name": "Python 3",
   "language": "python",
   "name": "python3"
  },
  "language_info": {
   "codemirror_mode": {
    "name": "ipython",
    "version": 3
   },
   "file_extension": ".py",
   "mimetype": "text/x-python",
   "name": "python",
   "nbconvert_exporter": "python",
   "pygments_lexer": "ipython3",
   "version": "3.12.0"
  },
  "orig_nbformat": 4
 },
 "nbformat": 4,
 "nbformat_minor": 2
}
